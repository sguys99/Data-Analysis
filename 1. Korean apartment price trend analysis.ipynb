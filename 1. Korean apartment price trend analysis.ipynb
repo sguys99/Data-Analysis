{
 "cells": [
  {
   "cell_type": "markdown",
   "metadata": {},
   "source": [
    "## Korean apartment price trend analysis  \n",
    "#### 전국 신규 민간 아파트 분양가격 동향   \n",
    "- 참고자료1 : [[전국 신규 민간 아파트 분양가격 동향]](  https://github.com/corazzon/OpenDataWrangling/blob/master/apt_presale_price.ipynb)  \n",
    "- 참고자료2 : [[공공데이터 포탈]](https://www.data.go.kr/data/3035522/fileData.do)"
   ]
  },
  {
   "cell_type": "markdown",
   "metadata": {},
   "source": [
    "#### 학습목표  \n",
    "- pandas의 pivot_table() 사용법을 익힌다.\n",
    "- plotnine의 ggplot 시각화 라이브러리 사용법을 익히고, matplotlib, seborn과 비교해본다."
   ]
  },
  {
   "cell_type": "markdown",
   "metadata": {},
   "source": [
    "<div style=\"text-align: right\"> <b>Author : Kwang Myung Yu</b></div> "
   ]
  },
  {
   "cell_type": "markdown",
   "metadata": {},
   "source": [
    "<div style=\"text-align: right\"> Initial upload: 2020.07.21 </div> \n",
    "<div style=\"text-align: right\"> Last update: 2020.07.21 </div> "
   ]
  },
  {
   "cell_type": "markdown",
   "metadata": {},
   "source": [
    "### 1. Library import"
   ]
  },
  {
   "cell_type": "code",
   "execution_count": 1,
   "metadata": {},
   "outputs": [],
   "source": [
    "import numpy as np\n",
    "import pandas as pd\n",
    "import matplotlib as mpl\n",
    "import matplotlib.pyplot as plt\n",
    "from matplotlib import font_manager, rc\n",
    "import seaborn as sns\n",
    "import datetime\n",
    "import warnings; warnings.filterwarnings('ignore')\n",
    "plt.style.use('ggplot')\n",
    "%matplotlib inline"
   ]
  },
  {
   "cell_type": "code",
   "execution_count": 2,
   "metadata": {},
   "outputs": [],
   "source": [
    "import missingno as msno\n",
    "from plotnine import * # plotnine 내에 aes 등 다른 라이브러리도 import 해야하므로 반드시 이렇게..\n",
    "# from plotnine import ggplot\n",
    "import re"
   ]
  },
  {
   "cell_type": "code",
   "execution_count": 3,
   "metadata": {},
   "outputs": [],
   "source": [
    "# Options for pandas\n",
    "pd.options.display.max_columns = 60\n",
    "\n",
    "mpl.rcParams['axes.unicode_minus'] = False\n",
    "_path = \"c:\\Windows\\Fonts\\KoPubWorld Dotum Bold.ttf\"\n",
    "_font_name = font_manager.FontProperties(fname=_path).get_name()\n",
    "rc('font', family=_font_name)\n",
    "mpl.rcParams['axes.unicode_minus']=False # 마이너스 폰트 깨짐방지"
   ]
  },
  {
   "cell_type": "markdown",
   "metadata": {},
   "source": [
    "### 2. 데이터 읽기"
   ]
  },
  {
   "cell_type": "code",
   "execution_count": 4,
   "metadata": {},
   "outputs": [],
   "source": [
    "url = 'https://raw.githubusercontent.com/sguys99/datasets/master/Apartment_price.csv'\n",
    "data = pd.read_csv(url, encoding = 'euc-kr', engine = 'python')"
   ]
  },
  {
   "cell_type": "code",
   "execution_count": 5,
   "metadata": {},
   "outputs": [
    {
     "data": {
      "text/html": [
       "<div>\n",
       "<style scoped>\n",
       "    .dataframe tbody tr th:only-of-type {\n",
       "        vertical-align: middle;\n",
       "    }\n",
       "\n",
       "    .dataframe tbody tr th {\n",
       "        vertical-align: top;\n",
       "    }\n",
       "\n",
       "    .dataframe thead th {\n",
       "        text-align: right;\n",
       "    }\n",
       "</style>\n",
       "<table border=\"1\" class=\"dataframe\">\n",
       "  <thead>\n",
       "    <tr style=\"text-align: right;\">\n",
       "      <th></th>\n",
       "      <th>지역명</th>\n",
       "      <th>규모구분</th>\n",
       "      <th>연도</th>\n",
       "      <th>월</th>\n",
       "      <th>분양가격(㎡)</th>\n",
       "    </tr>\n",
       "  </thead>\n",
       "  <tbody>\n",
       "    <tr>\n",
       "      <th>0</th>\n",
       "      <td>서울</td>\n",
       "      <td>전체</td>\n",
       "      <td>2015</td>\n",
       "      <td>10</td>\n",
       "      <td>5841</td>\n",
       "    </tr>\n",
       "    <tr>\n",
       "      <th>1</th>\n",
       "      <td>서울</td>\n",
       "      <td>전용면적 60㎡이하</td>\n",
       "      <td>2015</td>\n",
       "      <td>10</td>\n",
       "      <td>5652</td>\n",
       "    </tr>\n",
       "    <tr>\n",
       "      <th>2</th>\n",
       "      <td>서울</td>\n",
       "      <td>전용면적 60㎡초과 85㎡이하</td>\n",
       "      <td>2015</td>\n",
       "      <td>10</td>\n",
       "      <td>5882</td>\n",
       "    </tr>\n",
       "    <tr>\n",
       "      <th>3</th>\n",
       "      <td>서울</td>\n",
       "      <td>전용면적 85㎡초과 102㎡이하</td>\n",
       "      <td>2015</td>\n",
       "      <td>10</td>\n",
       "      <td>5721</td>\n",
       "    </tr>\n",
       "    <tr>\n",
       "      <th>4</th>\n",
       "      <td>서울</td>\n",
       "      <td>전용면적 102㎡초과</td>\n",
       "      <td>2015</td>\n",
       "      <td>10</td>\n",
       "      <td>5879</td>\n",
       "    </tr>\n",
       "  </tbody>\n",
       "</table>\n",
       "</div>"
      ],
      "text/plain": [
       "  지역명               규모구분    연도   월 분양가격(㎡)\n",
       "0  서울                 전체  2015  10    5841\n",
       "1  서울         전용면적 60㎡이하  2015  10    5652\n",
       "2  서울   전용면적 60㎡초과 85㎡이하  2015  10    5882\n",
       "3  서울  전용면적 85㎡초과 102㎡이하  2015  10    5721\n",
       "4  서울        전용면적 102㎡초과  2015  10    5879"
      ]
     },
     "execution_count": 5,
     "metadata": {},
     "output_type": "execute_result"
    }
   ],
   "source": [
    "data.head()"
   ]
  },
  {
   "cell_type": "code",
   "execution_count": 6,
   "metadata": {},
   "outputs": [
    {
     "data": {
      "text/plain": [
       "(4590, 5)"
      ]
     },
     "execution_count": 6,
     "metadata": {},
     "output_type": "execute_result"
    }
   ],
   "source": [
    "data.shape"
   ]
  },
  {
   "cell_type": "code",
   "execution_count": 7,
   "metadata": {},
   "outputs": [
    {
     "name": "stdout",
     "output_type": "stream",
     "text": [
      "<class 'pandas.core.frame.DataFrame'>\n",
      "RangeIndex: 4590 entries, 0 to 4589\n",
      "Data columns (total 5 columns):\n",
      " #   Column   Non-Null Count  Dtype \n",
      "---  ------   --------------  ----- \n",
      " 0   지역명      4590 non-null   object\n",
      " 1   규모구분     4590 non-null   object\n",
      " 2   연도       4590 non-null   int64 \n",
      " 3   월        4590 non-null   int64 \n",
      " 4   분양가격(㎡)  4285 non-null   object\n",
      "dtypes: int64(2), object(3)\n",
      "memory usage: 179.4+ KB\n"
     ]
    }
   ],
   "source": [
    "data.info()"
   ]
  },
  {
   "cell_type": "markdown",
   "metadata": {},
   "source": [
    "- 분양가격이 숫자타입이 아니다."
   ]
  },
  {
   "cell_type": "code",
   "execution_count": 8,
   "metadata": {},
   "outputs": [
    {
     "data": {
      "text/plain": [
       "지역명        object\n",
       "규모구분       object\n",
       "연도          int64\n",
       "월           int64\n",
       "분양가격(㎡)    object\n",
       "dtype: object"
      ]
     },
     "execution_count": 8,
     "metadata": {},
     "output_type": "execute_result"
    }
   ],
   "source": [
    "data.dtypes"
   ]
  },
  {
   "cell_type": "markdown",
   "metadata": {},
   "source": [
    "### 3. 데이터 살펴보기"
   ]
  },
  {
   "cell_type": "markdown",
   "metadata": {},
   "source": [
    "결측치 확인하기"
   ]
  },
  {
   "cell_type": "code",
   "execution_count": 9,
   "metadata": {},
   "outputs": [
    {
     "data": {
      "text/plain": [
       "<matplotlib.axes._subplots.AxesSubplot at 0x271bfa72708>"
      ]
     },
     "execution_count": 9,
     "metadata": {},
     "output_type": "execute_result"
    },
    {
     "data": {
      "image/png": "[encoded data removed]",
      "text/plain": [
       "<Figure size 720x288 with 2 Axes>"
      ]
     },
     "metadata": {
      "needs_background": "light"
     },
     "output_type": "display_data"
    }
   ],
   "source": [
    "msno.matrix(data, figsize = (10, 4))"
   ]
  },
  {
   "cell_type": "code",
   "execution_count": 10,
   "metadata": {},
   "outputs": [
    {
     "data": {
      "text/plain": [
       "지역명          0\n",
       "규모구분         0\n",
       "연도           0\n",
       "월            0\n",
       "분양가격(㎡)    305\n",
       "dtype: int64"
      ]
     },
     "execution_count": 10,
     "metadata": {},
     "output_type": "execute_result"
    }
   ],
   "source": [
    "data.isnull().sum()"
   ]
  },
  {
   "cell_type": "markdown",
   "metadata": {},
   "source": [
    "- 분양가격에 결측치가 있음"
   ]
  },
  {
   "cell_type": "markdown",
   "metadata": {},
   "source": [
    "컬럼명 변경하기"
   ]
  },
  {
   "cell_type": "code",
   "execution_count": 11,
   "metadata": {},
   "outputs": [
    {
     "data": {
      "text/plain": [
       "Index(['지역명', '규모구분', '연도', '월', '분양가격(㎡)'], dtype='object')"
      ]
     },
     "execution_count": 11,
     "metadata": {},
     "output_type": "execute_result"
    }
   ],
   "source": [
    "data.columns"
   ]
  },
  {
   "cell_type": "code",
   "execution_count": 12,
   "metadata": {},
   "outputs": [],
   "source": [
    "data = data.rename(columns={'분양가격(㎡)': '분양가격'})"
   ]
  },
  {
   "cell_type": "code",
   "execution_count": 13,
   "metadata": {},
   "outputs": [
    {
     "data": {
      "text/plain": [
       "Index(['지역명', '규모구분', '연도', '월', '분양가격'], dtype='object')"
      ]
     },
     "execution_count": 13,
     "metadata": {},
     "output_type": "execute_result"
    }
   ],
   "source": [
    "data.columns"
   ]
  },
  {
   "cell_type": "markdown",
   "metadata": {},
   "source": [
    "데이터타입 변경하기"
   ]
  },
  {
   "cell_type": "code",
   "execution_count": 14,
   "metadata": {},
   "outputs": [],
   "source": [
    "data['연도'] = data['연도'].astype(str)\n",
    "data['월'] = data['월'].astype(str)"
   ]
  },
  {
   "cell_type": "code",
   "execution_count": 15,
   "metadata": {},
   "outputs": [],
   "source": [
    "# 분양가격은 숫자형로 변경하고자 한다.\n",
    "# 문자열을 변경하는 방법은 다음중 하나를 사용하면 된다.\n",
    "# data['분양가격'] = data['분양가격'].astype('float64')\n",
    "# data['분양가격'] = data['분양가격'].apply(pd.to_numeric)\n",
    "# data['분양가격'] = pd.to_numeric(data['분양가격'])\n",
    "\n",
    "# 그런데 문자 값이나 결측치가 있는 경우 위 첫번째, 두번째는 사용이 불가능하다."
   ]
  },
  {
   "cell_type": "code",
   "execution_count": 16,
   "metadata": {},
   "outputs": [],
   "source": [
    "data['분양가격'] = pd.to_numeric(data['분양가격'], errors = 'coerce') #coerce : 에러 무시"
   ]
  },
  {
   "cell_type": "code",
   "execution_count": 17,
   "metadata": {},
   "outputs": [
    {
     "name": "stdout",
     "output_type": "stream",
     "text": [
      "<class 'pandas.core.frame.DataFrame'>\n",
      "RangeIndex: 4590 entries, 0 to 4589\n",
      "Data columns (total 5 columns):\n",
      " #   Column  Non-Null Count  Dtype  \n",
      "---  ------  --------------  -----  \n",
      " 0   지역명     4590 non-null   object \n",
      " 1   규모구분    4590 non-null   object \n",
      " 2   연도      4590 non-null   object \n",
      " 3   월       4590 non-null   object \n",
      " 4   분양가격    4184 non-null   float64\n",
      "dtypes: float64(1), object(4)\n",
      "memory usage: 179.4+ KB\n"
     ]
    }
   ],
   "source": [
    "data.info()"
   ]
  },
  {
   "cell_type": "markdown",
   "metadata": {},
   "source": [
    "평당 분양가격 구하기"
   ]
  },
  {
   "cell_type": "code",
   "execution_count": 18,
   "metadata": {},
   "outputs": [],
   "source": [
    "data['평당분양가격'] = data['분양가격']*3.3"
   ]
  },
  {
   "cell_type": "code",
   "execution_count": null,
   "metadata": {},
   "outputs": [],
   "source": []
  },
  {
   "cell_type": "markdown",
   "metadata": {},
   "source": [
    "2017년 데이터만 살펴보기"
   ]
  },
  {
   "cell_type": "code",
   "execution_count": 19,
   "metadata": {},
   "outputs": [],
   "source": [
    "data2017 = data[data['연도']=='2017']"
   ]
  },
  {
   "cell_type": "code",
   "execution_count": 20,
   "metadata": {},
   "outputs": [
    {
     "data": {
      "text/html": [
       "<div>\n",
       "<style scoped>\n",
       "    .dataframe tbody tr th:only-of-type {\n",
       "        vertical-align: middle;\n",
       "    }\n",
       "\n",
       "    .dataframe tbody tr th {\n",
       "        vertical-align: top;\n",
       "    }\n",
       "\n",
       "    .dataframe thead th {\n",
       "        text-align: right;\n",
       "    }\n",
       "</style>\n",
       "<table border=\"1\" class=\"dataframe\">\n",
       "  <thead>\n",
       "    <tr style=\"text-align: right;\">\n",
       "      <th></th>\n",
       "      <th>지역명</th>\n",
       "      <th>규모구분</th>\n",
       "      <th>연도</th>\n",
       "      <th>월</th>\n",
       "      <th>분양가격</th>\n",
       "      <th>평당분양가격</th>\n",
       "    </tr>\n",
       "  </thead>\n",
       "  <tbody>\n",
       "    <tr>\n",
       "      <th>1275</th>\n",
       "      <td>서울</td>\n",
       "      <td>전체</td>\n",
       "      <td>2017</td>\n",
       "      <td>1</td>\n",
       "      <td>6450.0</td>\n",
       "      <td>21285.0</td>\n",
       "    </tr>\n",
       "    <tr>\n",
       "      <th>1276</th>\n",
       "      <td>서울</td>\n",
       "      <td>전용면적 60㎡이하</td>\n",
       "      <td>2017</td>\n",
       "      <td>1</td>\n",
       "      <td>6662.0</td>\n",
       "      <td>21984.6</td>\n",
       "    </tr>\n",
       "    <tr>\n",
       "      <th>1277</th>\n",
       "      <td>서울</td>\n",
       "      <td>전용면적 60㎡초과 85㎡이하</td>\n",
       "      <td>2017</td>\n",
       "      <td>1</td>\n",
       "      <td>6500.0</td>\n",
       "      <td>21450.0</td>\n",
       "    </tr>\n",
       "    <tr>\n",
       "      <th>1278</th>\n",
       "      <td>서울</td>\n",
       "      <td>전용면적 85㎡초과 102㎡이하</td>\n",
       "      <td>2017</td>\n",
       "      <td>1</td>\n",
       "      <td>7030.0</td>\n",
       "      <td>23199.0</td>\n",
       "    </tr>\n",
       "    <tr>\n",
       "      <th>1279</th>\n",
       "      <td>서울</td>\n",
       "      <td>전용면적 102㎡초과</td>\n",
       "      <td>2017</td>\n",
       "      <td>1</td>\n",
       "      <td>6771.0</td>\n",
       "      <td>22344.3</td>\n",
       "    </tr>\n",
       "  </tbody>\n",
       "</table>\n",
       "</div>"
      ],
      "text/plain": [
       "     지역명               규모구분    연도  월    분양가격   평당분양가격\n",
       "1275  서울                 전체  2017  1  6450.0  21285.0\n",
       "1276  서울         전용면적 60㎡이하  2017  1  6662.0  21984.6\n",
       "1277  서울   전용면적 60㎡초과 85㎡이하  2017  1  6500.0  21450.0\n",
       "1278  서울  전용면적 85㎡초과 102㎡이하  2017  1  7030.0  23199.0\n",
       "1279  서울        전용면적 102㎡초과  2017  1  6771.0  22344.3"
      ]
     },
     "execution_count": 20,
     "metadata": {},
     "output_type": "execute_result"
    }
   ],
   "source": [
    "data2017.head()"
   ]
  },
  {
   "cell_type": "code",
   "execution_count": 21,
   "metadata": {},
   "outputs": [
    {
     "data": {
      "text/plain": [
       "(1020, 6)"
      ]
     },
     "execution_count": 21,
     "metadata": {},
     "output_type": "execute_result"
    }
   ],
   "source": [
    "data2017.shape"
   ]
  },
  {
   "cell_type": "markdown",
   "metadata": {},
   "source": [
    "아파트 평수 살펴보기"
   ]
  },
  {
   "cell_type": "code",
   "execution_count": 22,
   "metadata": {},
   "outputs": [
    {
     "data": {
      "text/plain": [
       "전체                   918\n",
       "전용면적 85㎡초과 102㎡이하    918\n",
       "전용면적 60㎡이하           918\n",
       "전용면적 60㎡초과 85㎡이하     918\n",
       "전용면적 102㎡초과          918\n",
       "Name: 규모구분, dtype: int64"
      ]
     },
     "execution_count": 22,
     "metadata": {},
     "output_type": "execute_result"
    }
   ],
   "source": [
    "data['규모구분'].value_counts()"
   ]
  },
  {
   "cell_type": "markdown",
   "metadata": {},
   "source": [
    "### 4. 데이터 조작하기 "
   ]
  },
  {
   "cell_type": "markdown",
   "metadata": {},
   "source": [
    "연도별 통계결과 살펴보기"
   ]
  },
  {
   "cell_type": "code",
   "execution_count": 23,
   "metadata": {},
   "outputs": [
    {
     "data": {
      "text/html": [
       "<div>\n",
       "<style scoped>\n",
       "    .dataframe tbody tr th:only-of-type {\n",
       "        vertical-align: middle;\n",
       "    }\n",
       "\n",
       "    .dataframe tbody tr th {\n",
       "        vertical-align: top;\n",
       "    }\n",
       "\n",
       "    .dataframe thead tr th {\n",
       "        text-align: left;\n",
       "    }\n",
       "\n",
       "    .dataframe thead tr:last-of-type th {\n",
       "        text-align: right;\n",
       "    }\n",
       "</style>\n",
       "<table border=\"1\" class=\"dataframe\">\n",
       "  <thead>\n",
       "    <tr>\n",
       "      <th></th>\n",
       "      <th colspan=\"8\" halign=\"left\">분양가격</th>\n",
       "      <th colspan=\"8\" halign=\"left\">평당분양가격</th>\n",
       "    </tr>\n",
       "    <tr>\n",
       "      <th></th>\n",
       "      <th>count</th>\n",
       "      <th>mean</th>\n",
       "      <th>std</th>\n",
       "      <th>min</th>\n",
       "      <th>25%</th>\n",
       "      <th>50%</th>\n",
       "      <th>75%</th>\n",
       "      <th>max</th>\n",
       "      <th>count</th>\n",
       "      <th>mean</th>\n",
       "      <th>std</th>\n",
       "      <th>min</th>\n",
       "      <th>25%</th>\n",
       "      <th>50%</th>\n",
       "      <th>75%</th>\n",
       "      <th>max</th>\n",
       "    </tr>\n",
       "    <tr>\n",
       "      <th>연도</th>\n",
       "      <th></th>\n",
       "      <th></th>\n",
       "      <th></th>\n",
       "      <th></th>\n",
       "      <th></th>\n",
       "      <th></th>\n",
       "      <th></th>\n",
       "      <th></th>\n",
       "      <th></th>\n",
       "      <th></th>\n",
       "      <th></th>\n",
       "      <th></th>\n",
       "      <th></th>\n",
       "      <th></th>\n",
       "      <th></th>\n",
       "      <th></th>\n",
       "    </tr>\n",
       "  </thead>\n",
       "  <tbody>\n",
       "    <tr>\n",
       "      <th>2015</th>\n",
       "      <td>243.0</td>\n",
       "      <td>2788.707819</td>\n",
       "      <td>976.861182</td>\n",
       "      <td>1868.0</td>\n",
       "      <td>2225.0</td>\n",
       "      <td>2516.0</td>\n",
       "      <td>3025.50</td>\n",
       "      <td>7092.0</td>\n",
       "      <td>243.0</td>\n",
       "      <td>9202.735802</td>\n",
       "      <td>3223.641902</td>\n",
       "      <td>6164.4</td>\n",
       "      <td>7342.50</td>\n",
       "      <td>8302.8</td>\n",
       "      <td>9984.150</td>\n",
       "      <td>23403.6</td>\n",
       "    </tr>\n",
       "    <tr>\n",
       "      <th>2016</th>\n",
       "      <td>984.0</td>\n",
       "      <td>2934.250000</td>\n",
       "      <td>1071.441561</td>\n",
       "      <td>1900.0</td>\n",
       "      <td>2282.0</td>\n",
       "      <td>2672.0</td>\n",
       "      <td>3148.50</td>\n",
       "      <td>8096.0</td>\n",
       "      <td>984.0</td>\n",
       "      <td>9683.025000</td>\n",
       "      <td>3535.757150</td>\n",
       "      <td>6270.0</td>\n",
       "      <td>7530.60</td>\n",
       "      <td>8817.6</td>\n",
       "      <td>10390.050</td>\n",
       "      <td>26716.8</td>\n",
       "    </tr>\n",
       "    <tr>\n",
       "      <th>2017</th>\n",
       "      <td>899.0</td>\n",
       "      <td>3139.541713</td>\n",
       "      <td>1107.584870</td>\n",
       "      <td>1976.0</td>\n",
       "      <td>2365.0</td>\n",
       "      <td>2849.0</td>\n",
       "      <td>3456.00</td>\n",
       "      <td>7887.0</td>\n",
       "      <td>899.0</td>\n",
       "      <td>10360.487653</td>\n",
       "      <td>3655.030071</td>\n",
       "      <td>6520.8</td>\n",
       "      <td>7804.50</td>\n",
       "      <td>9401.7</td>\n",
       "      <td>11404.800</td>\n",
       "      <td>26027.1</td>\n",
       "    </tr>\n",
       "    <tr>\n",
       "      <th>2018</th>\n",
       "      <td>919.0</td>\n",
       "      <td>3326.951034</td>\n",
       "      <td>1186.090839</td>\n",
       "      <td>2076.0</td>\n",
       "      <td>2525.0</td>\n",
       "      <td>2952.0</td>\n",
       "      <td>3698.00</td>\n",
       "      <td>8098.0</td>\n",
       "      <td>919.0</td>\n",
       "      <td>10978.938411</td>\n",
       "      <td>3914.099768</td>\n",
       "      <td>6850.8</td>\n",
       "      <td>8332.50</td>\n",
       "      <td>9741.6</td>\n",
       "      <td>12203.400</td>\n",
       "      <td>26723.4</td>\n",
       "    </tr>\n",
       "    <tr>\n",
       "      <th>2019</th>\n",
       "      <td>912.0</td>\n",
       "      <td>3693.422149</td>\n",
       "      <td>1563.205566</td>\n",
       "      <td>2124.0</td>\n",
       "      <td>2635.5</td>\n",
       "      <td>3395.0</td>\n",
       "      <td>4066.25</td>\n",
       "      <td>12728.0</td>\n",
       "      <td>912.0</td>\n",
       "      <td>12188.293092</td>\n",
       "      <td>5158.578369</td>\n",
       "      <td>7009.2</td>\n",
       "      <td>8697.15</td>\n",
       "      <td>11203.5</td>\n",
       "      <td>13418.625</td>\n",
       "      <td>42002.4</td>\n",
       "    </tr>\n",
       "    <tr>\n",
       "      <th>2020</th>\n",
       "      <td>227.0</td>\n",
       "      <td>3856.074890</td>\n",
       "      <td>1755.193638</td>\n",
       "      <td>2297.0</td>\n",
       "      <td>2667.0</td>\n",
       "      <td>3534.0</td>\n",
       "      <td>4275.50</td>\n",
       "      <td>13835.0</td>\n",
       "      <td>227.0</td>\n",
       "      <td>12725.047137</td>\n",
       "      <td>5792.139005</td>\n",
       "      <td>7580.1</td>\n",
       "      <td>8801.10</td>\n",
       "      <td>11662.2</td>\n",
       "      <td>14109.150</td>\n",
       "      <td>45655.5</td>\n",
       "    </tr>\n",
       "  </tbody>\n",
       "</table>\n",
       "</div>"
      ],
      "text/plain": [
       "       분양가격                                                             \\\n",
       "      count         mean          std     min     25%     50%      75%   \n",
       "연도                                                                       \n",
       "2015  243.0  2788.707819   976.861182  1868.0  2225.0  2516.0  3025.50   \n",
       "2016  984.0  2934.250000  1071.441561  1900.0  2282.0  2672.0  3148.50   \n",
       "2017  899.0  3139.541713  1107.584870  1976.0  2365.0  2849.0  3456.00   \n",
       "2018  919.0  3326.951034  1186.090839  2076.0  2525.0  2952.0  3698.00   \n",
       "2019  912.0  3693.422149  1563.205566  2124.0  2635.5  3395.0  4066.25   \n",
       "2020  227.0  3856.074890  1755.193638  2297.0  2667.0  3534.0  4275.50   \n",
       "\n",
       "              평당분양가격                                                       \\\n",
       "          max  count          mean          std     min      25%      50%   \n",
       "연도                                                                          \n",
       "2015   7092.0  243.0   9202.735802  3223.641902  6164.4  7342.50   8302.8   \n",
       "2016   8096.0  984.0   9683.025000  3535.757150  6270.0  7530.60   8817.6   \n",
       "2017   7887.0  899.0  10360.487653  3655.030071  6520.8  7804.50   9401.7   \n",
       "2018   8098.0  919.0  10978.938411  3914.099768  6850.8  8332.50   9741.6   \n",
       "2019  12728.0  912.0  12188.293092  5158.578369  7009.2  8697.15  11203.5   \n",
       "2020  13835.0  227.0  12725.047137  5792.139005  7580.1  8801.10  11662.2   \n",
       "\n",
       "                          \n",
       "            75%      max  \n",
       "연도                        \n",
       "2015   9984.150  23403.6  \n",
       "2016  10390.050  26716.8  \n",
       "2017  11404.800  26027.1  \n",
       "2018  12203.400  26723.4  \n",
       "2019  13418.625  42002.4  \n",
       "2020  14109.150  45655.5  "
      ]
     },
     "execution_count": 23,
     "metadata": {},
     "output_type": "execute_result"
    }
   ],
   "source": [
    "data.groupby('연도').describe()"
   ]
  },
  {
   "cell_type": "code",
   "execution_count": 24,
   "metadata": {},
   "outputs": [
    {
     "data": {
      "text/html": [
       "<div>\n",
       "<style scoped>\n",
       "    .dataframe tbody tr th:only-of-type {\n",
       "        vertical-align: middle;\n",
       "    }\n",
       "\n",
       "    .dataframe tbody tr th {\n",
       "        vertical-align: top;\n",
       "    }\n",
       "\n",
       "    .dataframe thead th {\n",
       "        text-align: right;\n",
       "    }\n",
       "</style>\n",
       "<table border=\"1\" class=\"dataframe\">\n",
       "  <thead>\n",
       "    <tr style=\"text-align: right;\">\n",
       "      <th></th>\n",
       "      <th>연도</th>\n",
       "      <th>2015</th>\n",
       "      <th>2016</th>\n",
       "      <th>2017</th>\n",
       "      <th>2018</th>\n",
       "      <th>2019</th>\n",
       "      <th>2020</th>\n",
       "    </tr>\n",
       "  </thead>\n",
       "  <tbody>\n",
       "    <tr>\n",
       "      <th rowspan=\"8\" valign=\"top\">분양가격</th>\n",
       "      <th>count</th>\n",
       "      <td>243.000000</td>\n",
       "      <td>984.000000</td>\n",
       "      <td>899.000000</td>\n",
       "      <td>919.000000</td>\n",
       "      <td>912.000000</td>\n",
       "      <td>227.000000</td>\n",
       "    </tr>\n",
       "    <tr>\n",
       "      <th>mean</th>\n",
       "      <td>2788.707819</td>\n",
       "      <td>2934.250000</td>\n",
       "      <td>3139.541713</td>\n",
       "      <td>3326.951034</td>\n",
       "      <td>3693.422149</td>\n",
       "      <td>3856.074890</td>\n",
       "    </tr>\n",
       "    <tr>\n",
       "      <th>std</th>\n",
       "      <td>976.861182</td>\n",
       "      <td>1071.441561</td>\n",
       "      <td>1107.584870</td>\n",
       "      <td>1186.090839</td>\n",
       "      <td>1563.205566</td>\n",
       "      <td>1755.193638</td>\n",
       "    </tr>\n",
       "    <tr>\n",
       "      <th>min</th>\n",
       "      <td>1868.000000</td>\n",
       "      <td>1900.000000</td>\n",
       "      <td>1976.000000</td>\n",
       "      <td>2076.000000</td>\n",
       "      <td>2124.000000</td>\n",
       "      <td>2297.000000</td>\n",
       "    </tr>\n",
       "    <tr>\n",
       "      <th>25%</th>\n",
       "      <td>2225.000000</td>\n",
       "      <td>2282.000000</td>\n",
       "      <td>2365.000000</td>\n",
       "      <td>2525.000000</td>\n",
       "      <td>2635.500000</td>\n",
       "      <td>2667.000000</td>\n",
       "    </tr>\n",
       "    <tr>\n",
       "      <th>50%</th>\n",
       "      <td>2516.000000</td>\n",
       "      <td>2672.000000</td>\n",
       "      <td>2849.000000</td>\n",
       "      <td>2952.000000</td>\n",
       "      <td>3395.000000</td>\n",
       "      <td>3534.000000</td>\n",
       "    </tr>\n",
       "    <tr>\n",
       "      <th>75%</th>\n",
       "      <td>3025.500000</td>\n",
       "      <td>3148.500000</td>\n",
       "      <td>3456.000000</td>\n",
       "      <td>3698.000000</td>\n",
       "      <td>4066.250000</td>\n",
       "      <td>4275.500000</td>\n",
       "    </tr>\n",
       "    <tr>\n",
       "      <th>max</th>\n",
       "      <td>7092.000000</td>\n",
       "      <td>8096.000000</td>\n",
       "      <td>7887.000000</td>\n",
       "      <td>8098.000000</td>\n",
       "      <td>12728.000000</td>\n",
       "      <td>13835.000000</td>\n",
       "    </tr>\n",
       "    <tr>\n",
       "      <th rowspan=\"8\" valign=\"top\">평당분양가격</th>\n",
       "      <th>count</th>\n",
       "      <td>243.000000</td>\n",
       "      <td>984.000000</td>\n",
       "      <td>899.000000</td>\n",
       "      <td>919.000000</td>\n",
       "      <td>912.000000</td>\n",
       "      <td>227.000000</td>\n",
       "    </tr>\n",
       "    <tr>\n",
       "      <th>mean</th>\n",
       "      <td>9202.735802</td>\n",
       "      <td>9683.025000</td>\n",
       "      <td>10360.487653</td>\n",
       "      <td>10978.938411</td>\n",
       "      <td>12188.293092</td>\n",
       "      <td>12725.047137</td>\n",
       "    </tr>\n",
       "    <tr>\n",
       "      <th>std</th>\n",
       "      <td>3223.641902</td>\n",
       "      <td>3535.757150</td>\n",
       "      <td>3655.030071</td>\n",
       "      <td>3914.099768</td>\n",
       "      <td>5158.578369</td>\n",
       "      <td>5792.139005</td>\n",
       "    </tr>\n",
       "    <tr>\n",
       "      <th>min</th>\n",
       "      <td>6164.400000</td>\n",
       "      <td>6270.000000</td>\n",
       "      <td>6520.800000</td>\n",
       "      <td>6850.800000</td>\n",
       "      <td>7009.200000</td>\n",
       "      <td>7580.100000</td>\n",
       "    </tr>\n",
       "    <tr>\n",
       "      <th>25%</th>\n",
       "      <td>7342.500000</td>\n",
       "      <td>7530.600000</td>\n",
       "      <td>7804.500000</td>\n",
       "      <td>8332.500000</td>\n",
       "      <td>8697.150000</td>\n",
       "      <td>8801.100000</td>\n",
       "    </tr>\n",
       "    <tr>\n",
       "      <th>50%</th>\n",
       "      <td>8302.800000</td>\n",
       "      <td>8817.600000</td>\n",
       "      <td>9401.700000</td>\n",
       "      <td>9741.600000</td>\n",
       "      <td>11203.500000</td>\n",
       "      <td>11662.200000</td>\n",
       "    </tr>\n",
       "    <tr>\n",
       "      <th>75%</th>\n",
       "      <td>9984.150000</td>\n",
       "      <td>10390.050000</td>\n",
       "      <td>11404.800000</td>\n",
       "      <td>12203.400000</td>\n",
       "      <td>13418.625000</td>\n",
       "      <td>14109.150000</td>\n",
       "    </tr>\n",
       "    <tr>\n",
       "      <th>max</th>\n",
       "      <td>23403.600000</td>\n",
       "      <td>26716.800000</td>\n",
       "      <td>26027.100000</td>\n",
       "      <td>26723.400000</td>\n",
       "      <td>42002.400000</td>\n",
       "      <td>45655.500000</td>\n",
       "    </tr>\n",
       "  </tbody>\n",
       "</table>\n",
       "</div>"
      ],
      "text/plain": [
       "연도                    2015          2016          2017          2018  \\\n",
       "분양가격   count    243.000000    984.000000    899.000000    919.000000   \n",
       "       mean    2788.707819   2934.250000   3139.541713   3326.951034   \n",
       "       std      976.861182   1071.441561   1107.584870   1186.090839   \n",
       "       min     1868.000000   1900.000000   1976.000000   2076.000000   \n",
       "       25%     2225.000000   2282.000000   2365.000000   2525.000000   \n",
       "       50%     2516.000000   2672.000000   2849.000000   2952.000000   \n",
       "       75%     3025.500000   3148.500000   3456.000000   3698.000000   \n",
       "       max     7092.000000   8096.000000   7887.000000   8098.000000   \n",
       "평당분양가격 count    243.000000    984.000000    899.000000    919.000000   \n",
       "       mean    9202.735802   9683.025000  10360.487653  10978.938411   \n",
       "       std     3223.641902   3535.757150   3655.030071   3914.099768   \n",
       "       min     6164.400000   6270.000000   6520.800000   6850.800000   \n",
       "       25%     7342.500000   7530.600000   7804.500000   8332.500000   \n",
       "       50%     8302.800000   8817.600000   9401.700000   9741.600000   \n",
       "       75%     9984.150000  10390.050000  11404.800000  12203.400000   \n",
       "       max    23403.600000  26716.800000  26027.100000  26723.400000   \n",
       "\n",
       "연도                    2019          2020  \n",
       "분양가격   count    912.000000    227.000000  \n",
       "       mean    3693.422149   3856.074890  \n",
       "       std     1563.205566   1755.193638  \n",
       "       min     2124.000000   2297.000000  \n",
       "       25%     2635.500000   2667.000000  \n",
       "       50%     3395.000000   3534.000000  \n",
       "       75%     4066.250000   4275.500000  \n",
       "       max    12728.000000  13835.000000  \n",
       "평당분양가격 count    912.000000    227.000000  \n",
       "       mean   12188.293092  12725.047137  \n",
       "       std     5158.578369   5792.139005  \n",
       "       min     7009.200000   7580.100000  \n",
       "       25%     8697.150000   8801.100000  \n",
       "       50%    11203.500000  11662.200000  \n",
       "       75%    13418.625000  14109.150000  \n",
       "       max    42002.400000  45655.500000  "
      ]
     },
     "execution_count": 24,
     "metadata": {},
     "output_type": "execute_result"
    }
   ],
   "source": [
    "data.groupby('연도').describe().T"
   ]
  },
  {
   "cell_type": "markdown",
   "metadata": {},
   "source": [
    "pivot_table 사용하기"
   ]
  },
  {
   "cell_type": "code",
   "execution_count": 25,
   "metadata": {},
   "outputs": [
    {
     "data": {
      "text/html": [
       "<div>\n",
       "<style scoped>\n",
       "    .dataframe tbody tr th:only-of-type {\n",
       "        vertical-align: middle;\n",
       "    }\n",
       "\n",
       "    .dataframe tbody tr th {\n",
       "        vertical-align: top;\n",
       "    }\n",
       "\n",
       "    .dataframe thead th {\n",
       "        text-align: right;\n",
       "    }\n",
       "</style>\n",
       "<table border=\"1\" class=\"dataframe\">\n",
       "  <thead>\n",
       "    <tr style=\"text-align: right;\">\n",
       "      <th>연도</th>\n",
       "      <th>2015</th>\n",
       "      <th>2016</th>\n",
       "      <th>2017</th>\n",
       "      <th>2018</th>\n",
       "      <th>2019</th>\n",
       "      <th>2020</th>\n",
       "    </tr>\n",
       "    <tr>\n",
       "      <th>규모구분</th>\n",
       "      <th></th>\n",
       "      <th></th>\n",
       "      <th></th>\n",
       "      <th></th>\n",
       "      <th></th>\n",
       "      <th></th>\n",
       "    </tr>\n",
       "  </thead>\n",
       "  <tbody>\n",
       "    <tr>\n",
       "      <th>전용면적 102㎡초과</th>\n",
       "      <td>9837.226667</td>\n",
       "      <td>10388.728272</td>\n",
       "      <td>11334.484615</td>\n",
       "      <td>11445.574576</td>\n",
       "      <td>13331.520968</td>\n",
       "      <td>13850.400000</td>\n",
       "    </tr>\n",
       "    <tr>\n",
       "      <th>전용면적 60㎡이하</th>\n",
       "      <td>8951.525000</td>\n",
       "      <td>9398.876119</td>\n",
       "      <td>10246.133333</td>\n",
       "      <td>10844.409783</td>\n",
       "      <td>11506.803371</td>\n",
       "      <td>11967.450000</td>\n",
       "    </tr>\n",
       "    <tr>\n",
       "      <th>전용면적 60㎡초과 85㎡이하</th>\n",
       "      <td>8891.817647</td>\n",
       "      <td>9295.986765</td>\n",
       "      <td>9825.000000</td>\n",
       "      <td>10650.611823</td>\n",
       "      <td>11677.201531</td>\n",
       "      <td>11857.288235</td>\n",
       "    </tr>\n",
       "    <tr>\n",
       "      <th>전용면적 85㎡초과 102㎡이하</th>\n",
       "      <td>9518.506250</td>\n",
       "      <td>10122.355435</td>\n",
       "      <td>10540.402454</td>\n",
       "      <td>11441.707895</td>\n",
       "      <td>12980.676923</td>\n",
       "      <td>14974.600000</td>\n",
       "    </tr>\n",
       "    <tr>\n",
       "      <th>전체</th>\n",
       "      <td>8893.047059</td>\n",
       "      <td>9293.042647</td>\n",
       "      <td>9901.270588</td>\n",
       "      <td>10675.825123</td>\n",
       "      <td>11602.715816</td>\n",
       "      <td>11879.352941</td>\n",
       "    </tr>\n",
       "  </tbody>\n",
       "</table>\n",
       "</div>"
      ],
      "text/plain": [
       "연도                        2015          2016          2017          2018  \\\n",
       "규모구분                                                                       \n",
       "전용면적 102㎡초과        9837.226667  10388.728272  11334.484615  11445.574576   \n",
       "전용면적 60㎡이하         8951.525000   9398.876119  10246.133333  10844.409783   \n",
       "전용면적 60㎡초과 85㎡이하   8891.817647   9295.986765   9825.000000  10650.611823   \n",
       "전용면적 85㎡초과 102㎡이하  9518.506250  10122.355435  10540.402454  11441.707895   \n",
       "전체                 8893.047059   9293.042647   9901.270588  10675.825123   \n",
       "\n",
       "연도                         2019          2020  \n",
       "규모구분                                           \n",
       "전용면적 102㎡초과        13331.520968  13850.400000  \n",
       "전용면적 60㎡이하         11506.803371  11967.450000  \n",
       "전용면적 60㎡초과 85㎡이하   11677.201531  11857.288235  \n",
       "전용면적 85㎡초과 102㎡이하  12980.676923  14974.600000  \n",
       "전체                 11602.715816  11879.352941  "
      ]
     },
     "execution_count": 25,
     "metadata": {},
     "output_type": "execute_result"
    }
   ],
   "source": [
    "data.pivot_table(values='평당분양가격', index = '규모구분', columns='연도')"
   ]
  },
  {
   "cell_type": "code",
   "execution_count": 26,
   "metadata": {},
   "outputs": [
    {
     "data": {
      "text/html": [
       "<div>\n",
       "<style scoped>\n",
       "    .dataframe tbody tr th:only-of-type {\n",
       "        vertical-align: middle;\n",
       "    }\n",
       "\n",
       "    .dataframe tbody tr th {\n",
       "        vertical-align: top;\n",
       "    }\n",
       "\n",
       "    .dataframe thead th {\n",
       "        text-align: right;\n",
       "    }\n",
       "</style>\n",
       "<table border=\"1\" class=\"dataframe\">\n",
       "  <thead>\n",
       "    <tr style=\"text-align: right;\">\n",
       "      <th>연도</th>\n",
       "      <th>2015</th>\n",
       "      <th>2016</th>\n",
       "      <th>2017</th>\n",
       "      <th>2018</th>\n",
       "      <th>2019</th>\n",
       "      <th>2020</th>\n",
       "    </tr>\n",
       "    <tr>\n",
       "      <th>규모구분</th>\n",
       "      <th></th>\n",
       "      <th></th>\n",
       "      <th></th>\n",
       "      <th></th>\n",
       "      <th></th>\n",
       "      <th></th>\n",
       "    </tr>\n",
       "  </thead>\n",
       "  <tbody>\n",
       "    <tr>\n",
       "      <th>전용면적 102㎡초과</th>\n",
       "      <td>9837.226667</td>\n",
       "      <td>10388.728272</td>\n",
       "      <td>11334.484615</td>\n",
       "      <td>11445.574576</td>\n",
       "      <td>13331.520968</td>\n",
       "      <td>13850.400000</td>\n",
       "    </tr>\n",
       "    <tr>\n",
       "      <th>전용면적 60㎡이하</th>\n",
       "      <td>8951.525000</td>\n",
       "      <td>9398.876119</td>\n",
       "      <td>10246.133333</td>\n",
       "      <td>10844.409783</td>\n",
       "      <td>11506.803371</td>\n",
       "      <td>11967.450000</td>\n",
       "    </tr>\n",
       "    <tr>\n",
       "      <th>전용면적 60㎡초과 85㎡이하</th>\n",
       "      <td>8891.817647</td>\n",
       "      <td>9295.986765</td>\n",
       "      <td>9825.000000</td>\n",
       "      <td>10650.611823</td>\n",
       "      <td>11677.201531</td>\n",
       "      <td>11857.288235</td>\n",
       "    </tr>\n",
       "    <tr>\n",
       "      <th>전용면적 85㎡초과 102㎡이하</th>\n",
       "      <td>9518.506250</td>\n",
       "      <td>10122.355435</td>\n",
       "      <td>10540.402454</td>\n",
       "      <td>11441.707895</td>\n",
       "      <td>12980.676923</td>\n",
       "      <td>14974.600000</td>\n",
       "    </tr>\n",
       "    <tr>\n",
       "      <th>전체</th>\n",
       "      <td>8893.047059</td>\n",
       "      <td>9293.042647</td>\n",
       "      <td>9901.270588</td>\n",
       "      <td>10675.825123</td>\n",
       "      <td>11602.715816</td>\n",
       "      <td>11879.352941</td>\n",
       "    </tr>\n",
       "  </tbody>\n",
       "</table>\n",
       "</div>"
      ],
      "text/plain": [
       "연도                        2015          2016          2017          2018  \\\n",
       "규모구분                                                                       \n",
       "전용면적 102㎡초과        9837.226667  10388.728272  11334.484615  11445.574576   \n",
       "전용면적 60㎡이하         8951.525000   9398.876119  10246.133333  10844.409783   \n",
       "전용면적 60㎡초과 85㎡이하   8891.817647   9295.986765   9825.000000  10650.611823   \n",
       "전용면적 85㎡초과 102㎡이하  9518.506250  10122.355435  10540.402454  11441.707895   \n",
       "전체                 8893.047059   9293.042647   9901.270588  10675.825123   \n",
       "\n",
       "연도                         2019          2020  \n",
       "규모구분                                           \n",
       "전용면적 102㎡초과        13331.520968  13850.400000  \n",
       "전용면적 60㎡이하         11506.803371  11967.450000  \n",
       "전용면적 60㎡초과 85㎡이하   11677.201531  11857.288235  \n",
       "전용면적 85㎡초과 102㎡이하  12980.676923  14974.600000  \n",
       "전체                 11602.715816  11879.352941  "
      ]
     },
     "execution_count": 26,
     "metadata": {},
     "output_type": "execute_result"
    }
   ],
   "source": [
    "data.pivot_table('평당분양가격', '규모구분', '연도')"
   ]
  },
  {
   "cell_type": "markdown",
   "metadata": {},
   "source": [
    "전체 대상 데이터만 추출하여 피봇테이블 만들기"
   ]
  },
  {
   "cell_type": "code",
   "execution_count": 27,
   "metadata": {},
   "outputs": [],
   "source": [
    "data_all = data[data['규모구분']=='전체']\n",
    "data_all = data_all.pivot_table(values='평당분양가격', index = '지역명', columns='연도').reset_index()"
   ]
  },
  {
   "cell_type": "code",
   "execution_count": 28,
   "metadata": {},
   "outputs": [
    {
     "data": {
      "text/html": [
       "<div>\n",
       "<style scoped>\n",
       "    .dataframe tbody tr th:only-of-type {\n",
       "        vertical-align: middle;\n",
       "    }\n",
       "\n",
       "    .dataframe tbody tr th {\n",
       "        vertical-align: top;\n",
       "    }\n",
       "\n",
       "    .dataframe thead th {\n",
       "        text-align: right;\n",
       "    }\n",
       "</style>\n",
       "<table border=\"1\" class=\"dataframe\">\n",
       "  <thead>\n",
       "    <tr style=\"text-align: right;\">\n",
       "      <th>연도</th>\n",
       "      <th>지역명</th>\n",
       "      <th>2015</th>\n",
       "      <th>2016</th>\n",
       "      <th>2017</th>\n",
       "      <th>2018</th>\n",
       "      <th>2019</th>\n",
       "      <th>2020</th>\n",
       "    </tr>\n",
       "  </thead>\n",
       "  <tbody>\n",
       "    <tr>\n",
       "      <th>0</th>\n",
       "      <td>강원</td>\n",
       "      <td>7159.9</td>\n",
       "      <td>7011.125</td>\n",
       "      <td>7126.8</td>\n",
       "      <td>7680.750</td>\n",
       "      <td>8141.65</td>\n",
       "      <td>8225.8</td>\n",
       "    </tr>\n",
       "    <tr>\n",
       "      <th>1</th>\n",
       "      <td>경기</td>\n",
       "      <td>10377.4</td>\n",
       "      <td>11220.000</td>\n",
       "      <td>11850.0</td>\n",
       "      <td>13185.975</td>\n",
       "      <td>14468.85</td>\n",
       "      <td>14829.1</td>\n",
       "    </tr>\n",
       "    <tr>\n",
       "      <th>2</th>\n",
       "      <td>경남</td>\n",
       "      <td>7585.6</td>\n",
       "      <td>7847.950</td>\n",
       "      <td>8119.8</td>\n",
       "      <td>9019.450</td>\n",
       "      <td>9870.85</td>\n",
       "      <td>10003.4</td>\n",
       "    </tr>\n",
       "    <tr>\n",
       "      <th>3</th>\n",
       "      <td>경북</td>\n",
       "      <td>7170.9</td>\n",
       "      <td>7360.650</td>\n",
       "      <td>7794.9</td>\n",
       "      <td>8505.200</td>\n",
       "      <td>8856.65</td>\n",
       "      <td>9002.4</td>\n",
       "    </tr>\n",
       "    <tr>\n",
       "      <th>4</th>\n",
       "      <td>광주</td>\n",
       "      <td>8052.0</td>\n",
       "      <td>8898.725</td>\n",
       "      <td>9463.5</td>\n",
       "      <td>9855.725</td>\n",
       "      <td>11822.80</td>\n",
       "      <td>12681.9</td>\n",
       "    </tr>\n",
       "  </tbody>\n",
       "</table>\n",
       "</div>"
      ],
      "text/plain": [
       "연도 지역명     2015       2016     2017       2018      2019     2020\n",
       "0   강원   7159.9   7011.125   7126.8   7680.750   8141.65   8225.8\n",
       "1   경기  10377.4  11220.000  11850.0  13185.975  14468.85  14829.1\n",
       "2   경남   7585.6   7847.950   8119.8   9019.450   9870.85  10003.4\n",
       "3   경북   7170.9   7360.650   7794.9   8505.200   8856.65   9002.4\n",
       "4   광주   8052.0   8898.725   9463.5   9855.725  11822.80  12681.9"
      ]
     },
     "execution_count": 28,
     "metadata": {},
     "output_type": "execute_result"
    }
   ],
   "source": [
    "data_all.head()"
   ]
  },
  {
   "cell_type": "markdown",
   "metadata": {},
   "source": [
    "2015 ~ 2020년 동안 변동액 구하기"
   ]
  },
  {
   "cell_type": "code",
   "execution_count": 29,
   "metadata": {},
   "outputs": [],
   "source": [
    "data_all['변동액'] = (data_all['2020']- data_all['2015'])"
   ]
  },
  {
   "cell_type": "code",
   "execution_count": 30,
   "metadata": {},
   "outputs": [
    {
     "data": {
      "text/html": [
       "<div>\n",
       "<style scoped>\n",
       "    .dataframe tbody tr th:only-of-type {\n",
       "        vertical-align: middle;\n",
       "    }\n",
       "\n",
       "    .dataframe tbody tr th {\n",
       "        vertical-align: top;\n",
       "    }\n",
       "\n",
       "    .dataframe thead th {\n",
       "        text-align: right;\n",
       "    }\n",
       "</style>\n",
       "<table border=\"1\" class=\"dataframe\">\n",
       "  <thead>\n",
       "    <tr style=\"text-align: right;\">\n",
       "      <th>연도</th>\n",
       "      <th>지역명</th>\n",
       "      <th>2015</th>\n",
       "      <th>2016</th>\n",
       "      <th>2017</th>\n",
       "      <th>2018</th>\n",
       "      <th>2019</th>\n",
       "      <th>2020</th>\n",
       "      <th>변동액</th>\n",
       "    </tr>\n",
       "  </thead>\n",
       "  <tbody>\n",
       "    <tr>\n",
       "      <th>0</th>\n",
       "      <td>강원</td>\n",
       "      <td>7159.9</td>\n",
       "      <td>7011.125</td>\n",
       "      <td>7126.8</td>\n",
       "      <td>7680.750</td>\n",
       "      <td>8141.650</td>\n",
       "      <td>8225.8</td>\n",
       "      <td>1065.9</td>\n",
       "    </tr>\n",
       "    <tr>\n",
       "      <th>1</th>\n",
       "      <td>경기</td>\n",
       "      <td>10377.4</td>\n",
       "      <td>11220.000</td>\n",
       "      <td>11850.0</td>\n",
       "      <td>13185.975</td>\n",
       "      <td>14468.850</td>\n",
       "      <td>14829.1</td>\n",
       "      <td>4451.7</td>\n",
       "    </tr>\n",
       "    <tr>\n",
       "      <th>2</th>\n",
       "      <td>경남</td>\n",
       "      <td>7585.6</td>\n",
       "      <td>7847.950</td>\n",
       "      <td>8119.8</td>\n",
       "      <td>9019.450</td>\n",
       "      <td>9870.850</td>\n",
       "      <td>10003.4</td>\n",
       "      <td>2417.8</td>\n",
       "    </tr>\n",
       "    <tr>\n",
       "      <th>3</th>\n",
       "      <td>경북</td>\n",
       "      <td>7170.9</td>\n",
       "      <td>7360.650</td>\n",
       "      <td>7794.9</td>\n",
       "      <td>8505.200</td>\n",
       "      <td>8856.650</td>\n",
       "      <td>9002.4</td>\n",
       "      <td>1831.5</td>\n",
       "    </tr>\n",
       "    <tr>\n",
       "      <th>4</th>\n",
       "      <td>광주</td>\n",
       "      <td>8052.0</td>\n",
       "      <td>8898.725</td>\n",
       "      <td>9463.5</td>\n",
       "      <td>9855.725</td>\n",
       "      <td>11822.800</td>\n",
       "      <td>12681.9</td>\n",
       "      <td>4629.9</td>\n",
       "    </tr>\n",
       "    <tr>\n",
       "      <th>5</th>\n",
       "      <td>대구</td>\n",
       "      <td>9232.3</td>\n",
       "      <td>10310.025</td>\n",
       "      <td>11455.8</td>\n",
       "      <td>12075.800</td>\n",
       "      <td>13852.025</td>\n",
       "      <td>14671.8</td>\n",
       "      <td>5439.5</td>\n",
       "    </tr>\n",
       "    <tr>\n",
       "      <th>6</th>\n",
       "      <td>대전</td>\n",
       "      <td>8098.2</td>\n",
       "      <td>8501.625</td>\n",
       "      <td>9044.7</td>\n",
       "      <td>10180.225</td>\n",
       "      <td>11777.700</td>\n",
       "      <td>11732.6</td>\n",
       "      <td>3634.4</td>\n",
       "    </tr>\n",
       "    <tr>\n",
       "      <th>7</th>\n",
       "      <td>부산</td>\n",
       "      <td>10307.0</td>\n",
       "      <td>10429.925</td>\n",
       "      <td>11577.9</td>\n",
       "      <td>12997.875</td>\n",
       "      <td>13116.400</td>\n",
       "      <td>12933.8</td>\n",
       "      <td>2626.8</td>\n",
       "    </tr>\n",
       "    <tr>\n",
       "      <th>8</th>\n",
       "      <td>서울</td>\n",
       "      <td>19725.2</td>\n",
       "      <td>20663.500</td>\n",
       "      <td>21375.9</td>\n",
       "      <td>22889.350</td>\n",
       "      <td>26131.050</td>\n",
       "      <td>26534.2</td>\n",
       "      <td>6809.0</td>\n",
       "    </tr>\n",
       "    <tr>\n",
       "      <th>9</th>\n",
       "      <td>세종</td>\n",
       "      <td>8750.5</td>\n",
       "      <td>8860.500</td>\n",
       "      <td>9135.3</td>\n",
       "      <td>10354.850</td>\n",
       "      <td>11078.925</td>\n",
       "      <td>11411.4</td>\n",
       "      <td>2660.9</td>\n",
       "    </tr>\n",
       "    <tr>\n",
       "      <th>10</th>\n",
       "      <td>울산</td>\n",
       "      <td>10052.9</td>\n",
       "      <td>10208.550</td>\n",
       "      <td>11345.1</td>\n",
       "      <td>10241.400</td>\n",
       "      <td>10022.100</td>\n",
       "      <td>10371.9</td>\n",
       "      <td>319.0</td>\n",
       "    </tr>\n",
       "    <tr>\n",
       "      <th>11</th>\n",
       "      <td>인천</td>\n",
       "      <td>10484.1</td>\n",
       "      <td>10532.500</td>\n",
       "      <td>10736.7</td>\n",
       "      <td>11273.900</td>\n",
       "      <td>12634.875</td>\n",
       "      <td>13583.9</td>\n",
       "      <td>3099.8</td>\n",
       "    </tr>\n",
       "    <tr>\n",
       "      <th>12</th>\n",
       "      <td>전남</td>\n",
       "      <td>6317.3</td>\n",
       "      <td>6488.625</td>\n",
       "      <td>7187.7</td>\n",
       "      <td>7789.100</td>\n",
       "      <td>7902.400</td>\n",
       "      <td>8323.7</td>\n",
       "      <td>2006.4</td>\n",
       "    </tr>\n",
       "    <tr>\n",
       "      <th>13</th>\n",
       "      <td>전북</td>\n",
       "      <td>6703.4</td>\n",
       "      <td>6417.950</td>\n",
       "      <td>7057.8</td>\n",
       "      <td>7625.750</td>\n",
       "      <td>8196.650</td>\n",
       "      <td>8144.4</td>\n",
       "      <td>1441.0</td>\n",
       "    </tr>\n",
       "    <tr>\n",
       "      <th>14</th>\n",
       "      <td>제주</td>\n",
       "      <td>7405.2</td>\n",
       "      <td>9129.175</td>\n",
       "      <td>10830.9</td>\n",
       "      <td>11890.725</td>\n",
       "      <td>12137.950</td>\n",
       "      <td>13051.5</td>\n",
       "      <td>5646.3</td>\n",
       "    </tr>\n",
       "    <tr>\n",
       "      <th>15</th>\n",
       "      <td>충남</td>\n",
       "      <td>7114.8</td>\n",
       "      <td>7330.675</td>\n",
       "      <td>7456.2</td>\n",
       "      <td>8012.675</td>\n",
       "      <td>8606.950</td>\n",
       "      <td>8637.2</td>\n",
       "      <td>1522.4</td>\n",
       "    </tr>\n",
       "    <tr>\n",
       "      <th>16</th>\n",
       "      <td>충북</td>\n",
       "      <td>6645.1</td>\n",
       "      <td>6770.225</td>\n",
       "      <td>6762.6</td>\n",
       "      <td>7874.075</td>\n",
       "      <td>7574.600</td>\n",
       "      <td>7810.0</td>\n",
       "      <td>1164.9</td>\n",
       "    </tr>\n",
       "  </tbody>\n",
       "</table>\n",
       "</div>"
      ],
      "text/plain": [
       "연도 지역명     2015       2016     2017       2018       2019     2020     변동액\n",
       "0   강원   7159.9   7011.125   7126.8   7680.750   8141.650   8225.8  1065.9\n",
       "1   경기  10377.4  11220.000  11850.0  13185.975  14468.850  14829.1  4451.7\n",
       "2   경남   7585.6   7847.950   8119.8   9019.450   9870.850  10003.4  2417.8\n",
       "3   경북   7170.9   7360.650   7794.9   8505.200   8856.650   9002.4  1831.5\n",
       "4   광주   8052.0   8898.725   9463.5   9855.725  11822.800  12681.9  4629.9\n",
       "5   대구   9232.3  10310.025  11455.8  12075.800  13852.025  14671.8  5439.5\n",
       "6   대전   8098.2   8501.625   9044.7  10180.225  11777.700  11732.6  3634.4\n",
       "7   부산  10307.0  10429.925  11577.9  12997.875  13116.400  12933.8  2626.8\n",
       "8   서울  19725.2  20663.500  21375.9  22889.350  26131.050  26534.2  6809.0\n",
       "9   세종   8750.5   8860.500   9135.3  10354.850  11078.925  11411.4  2660.9\n",
       "10  울산  10052.9  10208.550  11345.1  10241.400  10022.100  10371.9   319.0\n",
       "11  인천  10484.1  10532.500  10736.7  11273.900  12634.875  13583.9  3099.8\n",
       "12  전남   6317.3   6488.625   7187.7   7789.100   7902.400   8323.7  2006.4\n",
       "13  전북   6703.4   6417.950   7057.8   7625.750   8196.650   8144.4  1441.0\n",
       "14  제주   7405.2   9129.175  10830.9  11890.725  12137.950  13051.5  5646.3\n",
       "15  충남   7114.8   7330.675   7456.2   8012.675   8606.950   8637.2  1522.4\n",
       "16  충북   6645.1   6770.225   6762.6   7874.075   7574.600   7810.0  1164.9"
      ]
     },
     "execution_count": 30,
     "metadata": {},
     "output_type": "execute_result"
    }
   ],
   "source": [
    "data_all"
   ]
  },
  {
   "cell_type": "code",
   "execution_count": 31,
   "metadata": {},
   "outputs": [
    {
     "name": "stdout",
     "output_type": "stream",
     "text": [
      "6808.999999999996\n",
      "319.0\n",
      "2986.305882352942\n"
     ]
    }
   ],
   "source": [
    "print(data_all['변동액'].max())\n",
    "print(data_all['변동액'].min())\n",
    "print(data_all['변동액'].mean())"
   ]
  },
  {
   "cell_type": "markdown",
   "metadata": {},
   "source": [
    "### 5. 시각화 : Plotnine"
   ]
  },
  {
   "cell_type": "markdown",
   "metadata": {},
   "source": [
    "!['앤스콤의 4인방'](https://upload.wikimedia.org/wikipedia/commons/thumb/e/ec/Anscombe%27s_quartet_3.svg/1280px-Anscombe%27s_quartet_3.svg.png)"
   ]
  },
  {
   "cell_type": "markdown",
   "metadata": {},
   "source": [
    "시각화의 필요성 : 앤스콤의 4인방  \n",
    "- 위 데이터는 평균, 표준편차, 상관계수가 같다.  \n",
    "- 그렇지만 전혀 다른 데이터이다.(요약된 데이터로만 판단할 수 없음을 보여준다.)\n",
    "- 시각화를 통해서만 확인할 수가 있다.  \n",
    "- ggplot cheatsheet : https://rstudio.com/wp-content/uploads/2015/03/ggplot2-cheatsheet.pdf"
   ]
  },
  {
   "cell_type": "markdown",
   "metadata": {},
   "source": [
    "연도별 변동 그래프 그리기  "
   ]
  },
  {
   "cell_type": "code",
   "execution_count": 32,
   "metadata": {},
   "outputs": [
    {
     "data": {
      "text/html": [
       "<div>\n",
       "<style scoped>\n",
       "    .dataframe tbody tr th:only-of-type {\n",
       "        vertical-align: middle;\n",
       "    }\n",
       "\n",
       "    .dataframe tbody tr th {\n",
       "        vertical-align: top;\n",
       "    }\n",
       "\n",
       "    .dataframe thead th {\n",
       "        text-align: right;\n",
       "    }\n",
       "</style>\n",
       "<table border=\"1\" class=\"dataframe\">\n",
       "  <thead>\n",
       "    <tr style=\"text-align: right;\">\n",
       "      <th></th>\n",
       "      <th>지역명</th>\n",
       "      <th>규모구분</th>\n",
       "      <th>연도</th>\n",
       "      <th>월</th>\n",
       "      <th>분양가격</th>\n",
       "      <th>평당분양가격</th>\n",
       "    </tr>\n",
       "  </thead>\n",
       "  <tbody>\n",
       "    <tr>\n",
       "      <th>45</th>\n",
       "      <td>강원</td>\n",
       "      <td>전체</td>\n",
       "      <td>2015</td>\n",
       "      <td>10</td>\n",
       "      <td>2167.0</td>\n",
       "      <td>7151.1</td>\n",
       "    </tr>\n",
       "    <tr>\n",
       "      <th>46</th>\n",
       "      <td>강원</td>\n",
       "      <td>전용면적 60㎡이하</td>\n",
       "      <td>2015</td>\n",
       "      <td>10</td>\n",
       "      <td>2286.0</td>\n",
       "      <td>7543.8</td>\n",
       "    </tr>\n",
       "    <tr>\n",
       "      <th>47</th>\n",
       "      <td>강원</td>\n",
       "      <td>전용면적 60㎡초과 85㎡이하</td>\n",
       "      <td>2015</td>\n",
       "      <td>10</td>\n",
       "      <td>2212.0</td>\n",
       "      <td>7299.6</td>\n",
       "    </tr>\n",
       "    <tr>\n",
       "      <th>48</th>\n",
       "      <td>강원</td>\n",
       "      <td>전용면적 85㎡초과 102㎡이하</td>\n",
       "      <td>2015</td>\n",
       "      <td>10</td>\n",
       "      <td>2061.0</td>\n",
       "      <td>6801.3</td>\n",
       "    </tr>\n",
       "    <tr>\n",
       "      <th>49</th>\n",
       "      <td>강원</td>\n",
       "      <td>전용면적 102㎡초과</td>\n",
       "      <td>2015</td>\n",
       "      <td>10</td>\n",
       "      <td>2171.0</td>\n",
       "      <td>7164.3</td>\n",
       "    </tr>\n",
       "    <tr>\n",
       "      <th>...</th>\n",
       "      <td>...</td>\n",
       "      <td>...</td>\n",
       "      <td>...</td>\n",
       "      <td>...</td>\n",
       "      <td>...</td>\n",
       "      <td>...</td>\n",
       "    </tr>\n",
       "    <tr>\n",
       "      <th>1660</th>\n",
       "      <td>강원</td>\n",
       "      <td>전체</td>\n",
       "      <td>2017</td>\n",
       "      <td>5</td>\n",
       "      <td>2084.0</td>\n",
       "      <td>6877.2</td>\n",
       "    </tr>\n",
       "    <tr>\n",
       "      <th>1661</th>\n",
       "      <td>강원</td>\n",
       "      <td>전용면적 60㎡이하</td>\n",
       "      <td>2017</td>\n",
       "      <td>5</td>\n",
       "      <td>2096.0</td>\n",
       "      <td>6916.8</td>\n",
       "    </tr>\n",
       "    <tr>\n",
       "      <th>1662</th>\n",
       "      <td>강원</td>\n",
       "      <td>전용면적 60㎡초과 85㎡이하</td>\n",
       "      <td>2017</td>\n",
       "      <td>5</td>\n",
       "      <td>2084.0</td>\n",
       "      <td>6877.2</td>\n",
       "    </tr>\n",
       "    <tr>\n",
       "      <th>1663</th>\n",
       "      <td>강원</td>\n",
       "      <td>전용면적 85㎡초과 102㎡이하</td>\n",
       "      <td>2017</td>\n",
       "      <td>5</td>\n",
       "      <td>2221.0</td>\n",
       "      <td>7329.3</td>\n",
       "    </tr>\n",
       "    <tr>\n",
       "      <th>1664</th>\n",
       "      <td>강원</td>\n",
       "      <td>전용면적 102㎡초과</td>\n",
       "      <td>2017</td>\n",
       "      <td>5</td>\n",
       "      <td>2282.0</td>\n",
       "      <td>7530.6</td>\n",
       "    </tr>\n",
       "  </tbody>\n",
       "</table>\n",
       "<p>100 rows × 6 columns</p>\n",
       "</div>"
      ],
      "text/plain": [
       "     지역명               규모구분    연도   월    분양가격  평당분양가격\n",
       "45    강원                 전체  2015  10  2167.0  7151.1\n",
       "46    강원         전용면적 60㎡이하  2015  10  2286.0  7543.8\n",
       "47    강원   전용면적 60㎡초과 85㎡이하  2015  10  2212.0  7299.6\n",
       "48    강원  전용면적 85㎡초과 102㎡이하  2015  10  2061.0  6801.3\n",
       "49    강원        전용면적 102㎡초과  2015  10  2171.0  7164.3\n",
       "...   ..                ...   ...  ..     ...     ...\n",
       "1660  강원                 전체  2017   5  2084.0  6877.2\n",
       "1661  강원         전용면적 60㎡이하  2017   5  2096.0  6916.8\n",
       "1662  강원   전용면적 60㎡초과 85㎡이하  2017   5  2084.0  6877.2\n",
       "1663  강원  전용면적 85㎡초과 102㎡이하  2017   5  2221.0  7329.3\n",
       "1664  강원        전용면적 102㎡초과  2017   5  2282.0  7530.6\n",
       "\n",
       "[100 rows x 6 columns]"
      ]
     },
     "execution_count": 32,
     "metadata": {},
     "output_type": "execute_result"
    }
   ],
   "source": [
    "data[data['지역명']=='강원'].head(100)"
   ]
  },
  {
   "cell_type": "code",
   "execution_count": 33,
   "metadata": {},
   "outputs": [
    {
     "data": {
      "image/png": "[encoded data removed]",
      "text/plain": [
       "<Figure size 1200x400 with 1 Axes>"
      ]
     },
     "metadata": {},
     "output_type": "display_data"
    },
    {
     "data": {
      "text/plain": [
       "<ggplot: (-9223371868881565240)>"
      ]
     },
     "execution_count": 33,
     "metadata": {},
     "output_type": "execute_result"
    }
   ],
   "source": [
    "(ggplot(data, aes(x='지역명', y='평당분양가격', fill='연도'))\n",
    " + geom_bar(stat='summary', position='dodge')\n",
    " + ggtitle('2015-2018년 신규 민간 아파트 분양가격')\n",
    " + theme(text=element_text(family='NanumBarunGothic'),\n",
    "         figure_size=(12, 4))\n",
    ")"
   ]
  },
  {
   "cell_type": "markdown",
   "metadata": {},
   "source": [
    "- 아래는 matplotlib로 그린 것"
   ]
  },
  {
   "cell_type": "code",
   "execution_count": 34,
   "metadata": {},
   "outputs": [
    {
     "data": {
      "text/plain": [
       "<matplotlib.axes._subplots.AxesSubplot at 0x271c170eb48>"
      ]
     },
     "execution_count": 34,
     "metadata": {},
     "output_type": "execute_result"
    },
    {
     "data": {
      "image/png": "[encoded data removed]",
      "text/plain": [
       "<Figure size 864x432 with 1 Axes>"
      ]
     },
     "metadata": {
      "needs_background": "light"
     },
     "output_type": "display_data"
    }
   ],
   "source": [
    "data.groupby(['지역명', '연도']).mean()['평당분양가격'].unstack().plot(kind = 'bar', figsize = (12,6))"
   ]
  },
  {
   "cell_type": "markdown",
   "metadata": {},
   "source": [
    "- 아래는 seaborn으로 그린 것"
   ]
  },
  {
   "cell_type": "code",
   "execution_count": 35,
   "metadata": {},
   "outputs": [
    {
     "data": {
      "text/plain": [
       "<matplotlib.axes._subplots.AxesSubplot at 0x271c1883108>"
      ]
     },
     "execution_count": 35,
     "metadata": {},
     "output_type": "execute_result"
    },
    {
     "data": {
      "image/png": "[encoded data removed]",
      "text/plain": [
       "<Figure size 864x432 with 1 Axes>"
      ]
     },
     "metadata": {
      "needs_background": "light"
     },
     "output_type": "display_data"
    }
   ],
   "source": [
    "# 합을 그리고 싶다면\n",
    "plt.figure(figsize = (12, 6)) # 만약 오차막대를 min-max가 아닌 표준편차로 설정하려면 ci = 'sd'\n",
    "sns.barplot(data = data, x = '지역명', y ='평당분양가격', hue = '연도')"
   ]
  },
  {
   "cell_type": "code",
   "execution_count": null,
   "metadata": {},
   "outputs": [],
   "source": []
  },
  {
   "cell_type": "markdown",
   "metadata": {},
   "source": [
    "규모별 평당분양가격 바차트 그리기"
   ]
  },
  {
   "cell_type": "code",
   "execution_count": 36,
   "metadata": {
    "scrolled": true
   },
   "outputs": [
    {
     "data": {
      "text/html": [
       "<div>\n",
       "<style scoped>\n",
       "    .dataframe tbody tr th:only-of-type {\n",
       "        vertical-align: middle;\n",
       "    }\n",
       "\n",
       "    .dataframe tbody tr th {\n",
       "        vertical-align: top;\n",
       "    }\n",
       "\n",
       "    .dataframe thead th {\n",
       "        text-align: right;\n",
       "    }\n",
       "</style>\n",
       "<table border=\"1\" class=\"dataframe\">\n",
       "  <thead>\n",
       "    <tr style=\"text-align: right;\">\n",
       "      <th>지역명</th>\n",
       "      <th>강원</th>\n",
       "      <th>경기</th>\n",
       "      <th>경남</th>\n",
       "      <th>경북</th>\n",
       "      <th>광주</th>\n",
       "      <th>대구</th>\n",
       "      <th>대전</th>\n",
       "      <th>부산</th>\n",
       "      <th>서울</th>\n",
       "      <th>세종</th>\n",
       "      <th>울산</th>\n",
       "      <th>인천</th>\n",
       "      <th>전남</th>\n",
       "      <th>전북</th>\n",
       "      <th>제주</th>\n",
       "      <th>충남</th>\n",
       "      <th>충북</th>\n",
       "    </tr>\n",
       "    <tr>\n",
       "      <th>규모구분</th>\n",
       "      <th></th>\n",
       "      <th></th>\n",
       "      <th></th>\n",
       "      <th></th>\n",
       "      <th></th>\n",
       "      <th></th>\n",
       "      <th></th>\n",
       "      <th></th>\n",
       "      <th></th>\n",
       "      <th></th>\n",
       "      <th></th>\n",
       "      <th></th>\n",
       "      <th></th>\n",
       "      <th></th>\n",
       "      <th></th>\n",
       "      <th></th>\n",
       "      <th></th>\n",
       "    </tr>\n",
       "  </thead>\n",
       "  <tbody>\n",
       "    <tr>\n",
       "      <th>전용면적 102㎡초과</th>\n",
       "      <td>8569.601887</td>\n",
       "      <td>14899.624528</td>\n",
       "      <td>10358.363265</td>\n",
       "      <td>9197.411321</td>\n",
       "      <td>11280.142500</td>\n",
       "      <td>13302.362264</td>\n",
       "      <td>14875.080000</td>\n",
       "      <td>13267.930189</td>\n",
       "      <td>23790.883019</td>\n",
       "      <td>10269.164151</td>\n",
       "      <td>9974.448000</td>\n",
       "      <td>14472.587755</td>\n",
       "      <td>8316.186792</td>\n",
       "      <td>8227.958491</td>\n",
       "      <td>10604.418000</td>\n",
       "      <td>8727.611538</td>\n",
       "      <td>8218.369811</td>\n",
       "    </tr>\n",
       "    <tr>\n",
       "      <th>전용면적 60㎡이하</th>\n",
       "      <td>7614.283019</td>\n",
       "      <td>13420.041509</td>\n",
       "      <td>8717.694118</td>\n",
       "      <td>7918.505660</td>\n",
       "      <td>9650.987500</td>\n",
       "      <td>12117.413208</td>\n",
       "      <td>9335.138298</td>\n",
       "      <td>11412.209434</td>\n",
       "      <td>23458.952830</td>\n",
       "      <td>9323.927027</td>\n",
       "      <td>9390.975000</td>\n",
       "      <td>11354.428302</td>\n",
       "      <td>7284.407547</td>\n",
       "      <td>7651.018868</td>\n",
       "      <td>13971.475610</td>\n",
       "      <td>7909.228302</td>\n",
       "      <td>7147.115094</td>\n",
       "    </tr>\n",
       "    <tr>\n",
       "      <th>전용면적 60㎡초과 85㎡이하</th>\n",
       "      <td>7522.816981</td>\n",
       "      <td>12635.450943</td>\n",
       "      <td>8697.492453</td>\n",
       "      <td>8113.081132</td>\n",
       "      <td>10070.915094</td>\n",
       "      <td>11942.077358</td>\n",
       "      <td>9817.250943</td>\n",
       "      <td>11928.752830</td>\n",
       "      <td>23018.433962</td>\n",
       "      <td>9856.290566</td>\n",
       "      <td>10487.100000</td>\n",
       "      <td>11510.400000</td>\n",
       "      <td>7328.615094</td>\n",
       "      <td>7318.901887</td>\n",
       "      <td>10760.179245</td>\n",
       "      <td>7869.441509</td>\n",
       "      <td>7293.560377</td>\n",
       "    </tr>\n",
       "    <tr>\n",
       "      <th>전용면적 85㎡초과 102㎡이하</th>\n",
       "      <td>8851.200000</td>\n",
       "      <td>13920.271698</td>\n",
       "      <td>10057.092453</td>\n",
       "      <td>8773.814634</td>\n",
       "      <td>9296.100000</td>\n",
       "      <td>11291.646667</td>\n",
       "      <td>9037.430769</td>\n",
       "      <td>12211.307547</td>\n",
       "      <td>26990.700000</td>\n",
       "      <td>9946.137736</td>\n",
       "      <td>8861.007692</td>\n",
       "      <td>11615.875472</td>\n",
       "      <td>7949.834694</td>\n",
       "      <td>8325.511765</td>\n",
       "      <td>10709.082353</td>\n",
       "      <td>9220.737209</td>\n",
       "      <td>8408.337736</td>\n",
       "    </tr>\n",
       "    <tr>\n",
       "      <th>전체</th>\n",
       "      <td>7519.890566</td>\n",
       "      <td>12688.064151</td>\n",
       "      <td>8734.788679</td>\n",
       "      <td>8130.826415</td>\n",
       "      <td>10060.890566</td>\n",
       "      <td>11935.477358</td>\n",
       "      <td>9896.201887</td>\n",
       "      <td>11992.635849</td>\n",
       "      <td>22832.450943</td>\n",
       "      <td>9896.326415</td>\n",
       "      <td>10484.475000</td>\n",
       "      <td>11388.735849</td>\n",
       "      <td>7342.437736</td>\n",
       "      <td>7340.818868</td>\n",
       "      <td>10913.286792</td>\n",
       "      <td>7861.845283</td>\n",
       "      <td>7252.466038</td>\n",
       "    </tr>\n",
       "  </tbody>\n",
       "</table>\n",
       "</div>"
      ],
      "text/plain": [
       "지역명                         강원            경기            경남           경북  \\\n",
       "규모구분                                                                      \n",
       "전용면적 102㎡초과        8569.601887  14899.624528  10358.363265  9197.411321   \n",
       "전용면적 60㎡이하         7614.283019  13420.041509   8717.694118  7918.505660   \n",
       "전용면적 60㎡초과 85㎡이하   7522.816981  12635.450943   8697.492453  8113.081132   \n",
       "전용면적 85㎡초과 102㎡이하  8851.200000  13920.271698  10057.092453  8773.814634   \n",
       "전체                 7519.890566  12688.064151   8734.788679  8130.826415   \n",
       "\n",
       "지역명                          광주            대구            대전            부산  \\\n",
       "규모구분                                                                        \n",
       "전용면적 102㎡초과        11280.142500  13302.362264  14875.080000  13267.930189   \n",
       "전용면적 60㎡이하          9650.987500  12117.413208   9335.138298  11412.209434   \n",
       "전용면적 60㎡초과 85㎡이하   10070.915094  11942.077358   9817.250943  11928.752830   \n",
       "전용면적 85㎡초과 102㎡이하   9296.100000  11291.646667   9037.430769  12211.307547   \n",
       "전체                 10060.890566  11935.477358   9896.201887  11992.635849   \n",
       "\n",
       "지역명                          서울            세종            울산            인천  \\\n",
       "규모구분                                                                        \n",
       "전용면적 102㎡초과        23790.883019  10269.164151   9974.448000  14472.587755   \n",
       "전용면적 60㎡이하         23458.952830   9323.927027   9390.975000  11354.428302   \n",
       "전용면적 60㎡초과 85㎡이하   23018.433962   9856.290566  10487.100000  11510.400000   \n",
       "전용면적 85㎡초과 102㎡이하  26990.700000   9946.137736   8861.007692  11615.875472   \n",
       "전체                 22832.450943   9896.326415  10484.475000  11388.735849   \n",
       "\n",
       "지역명                         전남           전북            제주           충남  \\\n",
       "규모구분                                                                     \n",
       "전용면적 102㎡초과        8316.186792  8227.958491  10604.418000  8727.611538   \n",
       "전용면적 60㎡이하         7284.407547  7651.018868  13971.475610  7909.228302   \n",
       "전용면적 60㎡초과 85㎡이하   7328.615094  7318.901887  10760.179245  7869.441509   \n",
       "전용면적 85㎡초과 102㎡이하  7949.834694  8325.511765  10709.082353  9220.737209   \n",
       "전체                 7342.437736  7340.818868  10913.286792  7861.845283   \n",
       "\n",
       "지역명                         충북  \n",
       "규모구분                            \n",
       "전용면적 102㎡초과        8218.369811  \n",
       "전용면적 60㎡이하         7147.115094  \n",
       "전용면적 60㎡초과 85㎡이하   7293.560377  \n",
       "전용면적 85㎡초과 102㎡이하  8408.337736  \n",
       "전체                 7252.466038  "
      ]
     },
     "execution_count": 36,
     "metadata": {},
     "output_type": "execute_result"
    }
   ],
   "source": [
    "data.pivot_table(values='평당분양가격', index = '규모구분', columns='지역명')"
   ]
  },
  {
   "cell_type": "code",
   "execution_count": 37,
   "metadata": {},
   "outputs": [
    {
     "data": {
      "image/png": "[encoded data removed]",
      "text/plain": [
       "<Figure size 1200x600 with 1 Axes>"
      ]
     },
     "metadata": {},
     "output_type": "display_data"
    },
    {
     "data": {
      "text/plain": [
       "<ggplot: (-9223371868879288692)>"
      ]
     },
     "execution_count": 37,
     "metadata": {},
     "output_type": "execute_result"
    }
   ],
   "source": [
    "(ggplot(data, aes(x='지역명', y='평당분양가격', fill='규모구분'))\n",
    " + geom_bar(stat='identity', position='dodge')\n",
    " # dodge: 데이터를 stacking 하지 않고 늘어서 표현할 떄\n",
    " + ggtitle('규모별 신규 민간 아파트 분양가격')\n",
    " + theme(text=element_text(family='NanumBarunGothic'),\n",
    "         figure_size=(12, 6))\n",
    ")"
   ]
  },
  {
   "cell_type": "markdown",
   "metadata": {},
   "source": [
    "- 규모구분결 평균 값이 아니다.\n",
    "- stat를 'summary'로 설정하고 다시 차트를 그린다."
   ]
  },
  {
   "cell_type": "code",
   "execution_count": 38,
   "metadata": {},
   "outputs": [
    {
     "data": {
      "image/png": "[encoded data removed]",
      "text/plain": [
       "<Figure size 1200x600 with 1 Axes>"
      ]
     },
     "metadata": {},
     "output_type": "display_data"
    },
    {
     "data": {
      "text/plain": [
       "<ggplot: (-9223371868879390284)>"
      ]
     },
     "execution_count": 38,
     "metadata": {},
     "output_type": "execute_result"
    }
   ],
   "source": [
    "(ggplot(data, aes(x='지역명', y='평당분양가격', fill='규모구분'))\n",
    " + geom_bar(stat = \"summary\", position='dodge')\n",
    " # dodge: 데이터를 stacking 하지 않고 늘어서 표현할 떄\n",
    " + ggtitle('규모별 신규 민간 아파트 분양가격')\n",
    " + theme(text=element_text(family='NanumBarunGothic'),\n",
    "         figure_size=(12, 6))\n",
    ")"
   ]
  },
  {
   "cell_type": "markdown",
   "metadata": {},
   "source": [
    "- 아래는 matplotlib로 그린 것"
   ]
  },
  {
   "cell_type": "code",
   "execution_count": 39,
   "metadata": {},
   "outputs": [
    {
     "data": {
      "text/plain": [
       "<matplotlib.axes._subplots.AxesSubplot at 0x271c1cf27c8>"
      ]
     },
     "execution_count": 39,
     "metadata": {},
     "output_type": "execute_result"
    },
    {
     "data": {
      "image/png": "[encoded data removed]",
      "text/plain": [
       "<Figure size 864x432 with 1 Axes>"
      ]
     },
     "metadata": {
      "needs_background": "light"
     },
     "output_type": "display_data"
    }
   ],
   "source": [
    "data.groupby(['지역명', '규모구분']).mean()['평당분양가격'].unstack().plot(kind = 'bar', figsize = (12,6))"
   ]
  },
  {
   "cell_type": "markdown",
   "metadata": {},
   "source": [
    "- 아래는 seaborn으로 그린 것"
   ]
  },
  {
   "cell_type": "code",
   "execution_count": 40,
   "metadata": {},
   "outputs": [
    {
     "data": {
      "text/plain": [
       "<matplotlib.axes._subplots.AxesSubplot at 0x271bfbedf48>"
      ]
     },
     "execution_count": 40,
     "metadata": {},
     "output_type": "execute_result"
    },
    {
     "data": {
      "image/png": "[encoded data removed]",
      "text/plain": [
       "<Figure size 864x432 with 1 Axes>"
      ]
     },
     "metadata": {
      "needs_background": "light"
     },
     "output_type": "display_data"
    }
   ],
   "source": [
    "plt.figure(figsize = (12, 6))\n",
    "sns.barplot(data = data, x = '지역명', y ='평당분양가격', hue = '규모구분') # 디펄트 평균 값임"
   ]
  },
  {
   "cell_type": "code",
   "execution_count": 41,
   "metadata": {},
   "outputs": [
    {
     "data": {
      "text/plain": [
       "<matplotlib.axes._subplots.AxesSubplot at 0x271c20a2108>"
      ]
     },
     "execution_count": 41,
     "metadata": {},
     "output_type": "execute_result"
    },
    {
     "data": {
      "image/png": "[encoded data removed]",
      "text/plain": [
       "<Figure size 864x432 with 1 Axes>"
      ]
     },
     "metadata": {
      "needs_background": "light"
     },
     "output_type": "display_data"
    }
   ],
   "source": [
    "# 합을 그리고 싶다면\n",
    "plt.figure(figsize = (12, 6)) # 만약 오차막대를 min-max가 아닌 표준편차로 설정하려면 ci = 'sd'\n",
    "sns.barplot(data = data, x = '지역명', y ='평당분양가격', hue = '규모구분', ci = None, \n",
    "           estimator=np.sum)"
   ]
  },
  {
   "cell_type": "code",
   "execution_count": null,
   "metadata": {},
   "outputs": [],
   "source": []
  },
  {
   "cell_type": "markdown",
   "metadata": {},
   "source": [
    "연도별 평당분양가격 바차트 그리기"
   ]
  },
  {
   "cell_type": "code",
   "execution_count": 42,
   "metadata": {
    "scrolled": true
   },
   "outputs": [
    {
     "data": {
      "image/png": "[encoded data removed]",
      "text/plain": [
       "<Figure size 1200x1200 with 17 Axes>"
      ]
     },
     "metadata": {},
     "output_type": "display_data"
    },
    {
     "data": {
      "text/plain": [
       "<ggplot: (-9223371868878788488)>"
      ]
     },
     "execution_count": 42,
     "metadata": {},
     "output_type": "execute_result"
    }
   ],
   "source": [
    "(ggplot(data)\n",
    " + aes(x='연도', y='평당분양가격', fill='규모구분')\n",
    " + geom_bar(stat='summary', position='dodge')\n",
    " + facet_wrap('지역명') # 지역명을 기준으로 subplot 생성\n",
    " + theme(text=element_text(family='NanumBarunGothic'),\n",
    "         axis_text_x=element_text(rotation=70),\n",
    "         figure_size=(12, 12))\n",
    ")"
   ]
  },
  {
   "cell_type": "markdown",
   "metadata": {},
   "source": [
    "박스플롯 그리기"
   ]
  },
  {
   "cell_type": "code",
   "execution_count": 43,
   "metadata": {},
   "outputs": [
    {
     "data": {
      "image/png": "[encoded data removed]",
      "text/plain": [
       "<Figure size 1200x600 with 1 Axes>"
      ]
     },
     "metadata": {},
     "output_type": "display_data"
    },
    {
     "data": {
      "text/plain": [
       "<ggplot: (-9223371868878697608)>"
      ]
     },
     "execution_count": 43,
     "metadata": {},
     "output_type": "execute_result"
    }
   ],
   "source": [
    "(ggplot(data, aes(x='지역명', y='평당분양가격', fill='규모구분'))\n",
    " + geom_boxplot()\n",
    " + ggtitle('전국 규모별 신규 민간 아파트 분양가격')\n",
    " + theme(text=element_text(family='NanumBarunGothic'),\n",
    "         figure_size=(12, 6))\n",
    ")"
   ]
  },
  {
   "cell_type": "markdown",
   "metadata": {},
   "source": [
    "박스플롯 그리기\n",
    "- 서울 지역의 연도별 평당 분양가격"
   ]
  },
  {
   "cell_type": "code",
   "execution_count": 44,
   "metadata": {},
   "outputs": [
    {
     "data": {
      "image/png": "[encoded data removed]",
      "text/plain": [
       "<Figure size 1200x600 with 1 Axes>"
      ]
     },
     "metadata": {},
     "output_type": "display_data"
    },
    {
     "data": {
      "text/plain": [
       "<ggplot: (-9223371868878700328)>"
      ]
     },
     "execution_count": 44,
     "metadata": {},
     "output_type": "execute_result"
    }
   ],
   "source": [
    "data_seoul = data[data['지역명']=='서울']\n",
    "(ggplot(data_seoul)\n",
    " + aes(x='연도', y='평당분양가격', fill='규모구분')\n",
    " + ggtitle('서울 연도/규모별 신규 민간 아파트 분양가격')\n",
    " + geom_boxplot()\n",
    " + theme(text=element_text(family='NanumBarunGothic'), figure_size = (12, 6)))"
   ]
  },
  {
   "cell_type": "markdown",
   "metadata": {},
   "source": [
    "- 제주지역의 연도별 평당 분양가격"
   ]
  },
  {
   "cell_type": "code",
   "execution_count": 45,
   "metadata": {},
   "outputs": [
    {
     "data": {
      "image/png": "[encoded data removed]",
      "text/plain": [
       "<Figure size 1200x600 with 1 Axes>"
      ]
     },
     "metadata": {},
     "output_type": "display_data"
    },
    {
     "data": {
      "text/plain": [
       "<ggplot: (-9223371868878700340)>"
      ]
     },
     "execution_count": 45,
     "metadata": {},
     "output_type": "execute_result"
    }
   ],
   "source": [
    "(ggplot(data[data['지역명']=='제주'])\n",
    " + aes(x='연도', y='평당분양가격', fill='규모구분')\n",
    " + ggtitle('서울 연도/규모별 신규 민간 아파트 분양가격')\n",
    " + geom_boxplot()\n",
    " + theme(text=element_text(family='NanumBarunGothic'), figure_size = (12, 6)))"
   ]
  },
  {
   "cell_type": "code",
   "execution_count": null,
   "metadata": {},
   "outputs": [],
   "source": []
  },
  {
   "cell_type": "markdown",
   "metadata": {},
   "source": [
    "### 6. Tidy data 만들기 : 분석하기 좋은 데이터"
   ]
  },
  {
   "cell_type": "markdown",
   "metadata": {},
   "source": [
    "데이터 읽기"
   ]
  },
  {
   "cell_type": "code",
   "execution_count": 46,
   "metadata": {},
   "outputs": [],
   "source": [
    "url = 'https://raw.githubusercontent.com/sguys99/datasets/master/regional_apartment_price.csv'\n",
    "data = pd.read_csv(url, encoding = 'euc-kr', engine = 'python')"
   ]
  },
  {
   "cell_type": "code",
   "execution_count": 47,
   "metadata": {},
   "outputs": [
    {
     "data": {
      "text/html": [
       "<div>\n",
       "<style scoped>\n",
       "    .dataframe tbody tr th:only-of-type {\n",
       "        vertical-align: middle;\n",
       "    }\n",
       "\n",
       "    .dataframe tbody tr th {\n",
       "        vertical-align: top;\n",
       "    }\n",
       "\n",
       "    .dataframe thead th {\n",
       "        text-align: right;\n",
       "    }\n",
       "</style>\n",
       "<table border=\"1\" class=\"dataframe\">\n",
       "  <thead>\n",
       "    <tr style=\"text-align: right;\">\n",
       "      <th></th>\n",
       "      <th>□ 평균 분양가격</th>\n",
       "      <th>Unnamed: 1</th>\n",
       "      <th>Unnamed: 2</th>\n",
       "      <th>Unnamed: 3</th>\n",
       "      <th>Unnamed: 4</th>\n",
       "      <th>Unnamed: 5</th>\n",
       "      <th>Unnamed: 6</th>\n",
       "      <th>Unnamed: 7</th>\n",
       "      <th>Unnamed: 8</th>\n",
       "      <th>Unnamed: 9</th>\n",
       "      <th>Unnamed: 10</th>\n",
       "      <th>Unnamed: 11</th>\n",
       "      <th>Unnamed: 12</th>\n",
       "      <th>Unnamed: 13</th>\n",
       "      <th>Unnamed: 14</th>\n",
       "      <th>Unnamed: 15</th>\n",
       "      <th>Unnamed: 16</th>\n",
       "      <th>Unnamed: 17</th>\n",
       "      <th>Unnamed: 18</th>\n",
       "      <th>Unnamed: 19</th>\n",
       "      <th>Unnamed: 20</th>\n",
       "      <th>Unnamed: 21</th>\n",
       "      <th>Unnamed: 22</th>\n",
       "      <th>Unnamed: 23</th>\n",
       "      <th>Unnamed: 24</th>\n",
       "      <th>Unnamed: 25</th>\n",
       "      <th>Unnamed: 26</th>\n",
       "    </tr>\n",
       "  </thead>\n",
       "  <tbody>\n",
       "    <tr>\n",
       "      <th>0</th>\n",
       "      <td>NaN</td>\n",
       "      <td>NaN</td>\n",
       "      <td>NaN</td>\n",
       "      <td>NaN</td>\n",
       "      <td>NaN</td>\n",
       "      <td>NaN</td>\n",
       "      <td>NaN</td>\n",
       "      <td>NaN</td>\n",
       "      <td>NaN</td>\n",
       "      <td>NaN</td>\n",
       "      <td>NaN</td>\n",
       "      <td>NaN</td>\n",
       "      <td>NaN</td>\n",
       "      <td>NaN</td>\n",
       "      <td>NaN</td>\n",
       "      <td>NaN</td>\n",
       "      <td>NaN</td>\n",
       "      <td>NaN</td>\n",
       "      <td>NaN</td>\n",
       "      <td>NaN</td>\n",
       "      <td>NaN</td>\n",
       "      <td>NaN</td>\n",
       "      <td>NaN</td>\n",
       "      <td>NaN</td>\n",
       "      <td>NaN</td>\n",
       "      <td>NaN</td>\n",
       "      <td>NaN</td>\n",
       "    </tr>\n",
       "    <tr>\n",
       "      <th>1</th>\n",
       "      <td>구분</td>\n",
       "      <td>NaN</td>\n",
       "      <td>2013년</td>\n",
       "      <td>2014년</td>\n",
       "      <td>NaN</td>\n",
       "      <td>NaN</td>\n",
       "      <td>NaN</td>\n",
       "      <td>NaN</td>\n",
       "      <td>NaN</td>\n",
       "      <td>NaN</td>\n",
       "      <td>NaN</td>\n",
       "      <td>NaN</td>\n",
       "      <td>NaN</td>\n",
       "      <td>NaN</td>\n",
       "      <td>NaN</td>\n",
       "      <td>2015년</td>\n",
       "      <td>NaN</td>\n",
       "      <td>NaN</td>\n",
       "      <td>NaN</td>\n",
       "      <td>NaN</td>\n",
       "      <td>NaN</td>\n",
       "      <td>NaN</td>\n",
       "      <td>NaN</td>\n",
       "      <td>NaN</td>\n",
       "      <td>NaN</td>\n",
       "      <td>NaN</td>\n",
       "      <td>(단위: 천원/3.3㎡)</td>\n",
       "    </tr>\n",
       "    <tr>\n",
       "      <th>2</th>\n",
       "      <td>시도</td>\n",
       "      <td>시군구</td>\n",
       "      <td>12월</td>\n",
       "      <td>1월</td>\n",
       "      <td>2월</td>\n",
       "      <td>3월</td>\n",
       "      <td>4월</td>\n",
       "      <td>5월</td>\n",
       "      <td>6월</td>\n",
       "      <td>7월</td>\n",
       "      <td>8월</td>\n",
       "      <td>9월</td>\n",
       "      <td>10월</td>\n",
       "      <td>11월</td>\n",
       "      <td>12월</td>\n",
       "      <td>1월</td>\n",
       "      <td>2월</td>\n",
       "      <td>3월</td>\n",
       "      <td>4월</td>\n",
       "      <td>5월</td>\n",
       "      <td>6월</td>\n",
       "      <td>7월</td>\n",
       "      <td>8월</td>\n",
       "      <td>9월</td>\n",
       "      <td>전월비</td>\n",
       "      <td>전년말비</td>\n",
       "      <td>전년동월비</td>\n",
       "    </tr>\n",
       "    <tr>\n",
       "      <th>3</th>\n",
       "      <td>전국</td>\n",
       "      <td>NaN</td>\n",
       "      <td>8,059</td>\n",
       "      <td>8,130</td>\n",
       "      <td>8,195</td>\n",
       "      <td>8,204</td>\n",
       "      <td>8,289</td>\n",
       "      <td>8,358</td>\n",
       "      <td>8,344</td>\n",
       "      <td>8,333</td>\n",
       "      <td>8,395</td>\n",
       "      <td>8,459</td>\n",
       "      <td>8,488</td>\n",
       "      <td>8,569</td>\n",
       "      <td>8,584</td>\n",
       "      <td>8,605</td>\n",
       "      <td>8,602</td>\n",
       "      <td>8,563</td>\n",
       "      <td>8,613</td>\n",
       "      <td>8,624</td>\n",
       "      <td>8,627</td>\n",
       "      <td>8,643</td>\n",
       "      <td>8,678</td>\n",
       "      <td>8,665</td>\n",
       "      <td>-13</td>\n",
       "      <td>82</td>\n",
       "      <td>207</td>\n",
       "    </tr>\n",
       "    <tr>\n",
       "      <th>4</th>\n",
       "      <td>서울</td>\n",
       "      <td>NaN</td>\n",
       "      <td>18,189</td>\n",
       "      <td>17,925</td>\n",
       "      <td>17,925</td>\n",
       "      <td>18,016</td>\n",
       "      <td>18,098</td>\n",
       "      <td>19,446</td>\n",
       "      <td>18,867</td>\n",
       "      <td>18,742</td>\n",
       "      <td>19,274</td>\n",
       "      <td>19,404</td>\n",
       "      <td>19,759</td>\n",
       "      <td>20,242</td>\n",
       "      <td>20,269</td>\n",
       "      <td>20,670</td>\n",
       "      <td>20,670</td>\n",
       "      <td>19,415</td>\n",
       "      <td>18,842</td>\n",
       "      <td>18,367</td>\n",
       "      <td>18,374</td>\n",
       "      <td>18,152</td>\n",
       "      <td>18,443</td>\n",
       "      <td>17,969</td>\n",
       "      <td>-474</td>\n",
       "      <td>-2,300</td>\n",
       "      <td>-1,434</td>\n",
       "    </tr>\n",
       "  </tbody>\n",
       "</table>\n",
       "</div>"
      ],
      "text/plain": [
       "  □ 평균 분양가격 Unnamed: 1 Unnamed: 2 Unnamed: 3 Unnamed: 4 Unnamed: 5 Unnamed: 6  \\\n",
       "0       NaN        NaN        NaN        NaN        NaN        NaN        NaN   \n",
       "1        구분        NaN      2013년      2014년        NaN        NaN        NaN   \n",
       "2        시도        시군구        12월         1월         2월         3월         4월   \n",
       "3        전국        NaN      8,059      8,130      8,195      8,204      8,289   \n",
       "4        서울        NaN     18,189     17,925     17,925     18,016     18,098   \n",
       "\n",
       "  Unnamed: 7 Unnamed: 8 Unnamed: 9 Unnamed: 10 Unnamed: 11 Unnamed: 12  \\\n",
       "0        NaN        NaN        NaN         NaN         NaN         NaN   \n",
       "1        NaN        NaN        NaN         NaN         NaN         NaN   \n",
       "2         5월         6월         7월          8월          9월         10월   \n",
       "3      8,358      8,344      8,333       8,395       8,459       8,488   \n",
       "4     19,446     18,867     18,742      19,274      19,404      19,759   \n",
       "\n",
       "  Unnamed: 13 Unnamed: 14 Unnamed: 15 Unnamed: 16 Unnamed: 17 Unnamed: 18  \\\n",
       "0         NaN         NaN         NaN         NaN         NaN         NaN   \n",
       "1         NaN         NaN       2015년         NaN         NaN         NaN   \n",
       "2         11월         12월          1월          2월          3월          4월   \n",
       "3       8,569       8,584       8,605       8,602       8,563       8,613   \n",
       "4      20,242      20,269      20,670      20,670      19,415      18,842   \n",
       "\n",
       "  Unnamed: 19 Unnamed: 20 Unnamed: 21 Unnamed: 22 Unnamed: 23 Unnamed: 24  \\\n",
       "0         NaN         NaN         NaN         NaN         NaN         NaN   \n",
       "1         NaN         NaN         NaN         NaN         NaN         NaN   \n",
       "2          5월          6월          7월          8월          9월         전월비   \n",
       "3       8,624       8,627       8,643       8,678       8,665        -13    \n",
       "4      18,367      18,374      18,152      18,443      17,969       -474    \n",
       "\n",
       "  Unnamed: 25    Unnamed: 26  \n",
       "0         NaN            NaN  \n",
       "1         NaN  (단위: 천원/3.3㎡)  \n",
       "2        전년말비          전년동월비  \n",
       "3         82            207   \n",
       "4     -2,300         -1,434   "
      ]
     },
     "execution_count": 47,
     "metadata": {},
     "output_type": "execute_result"
    }
   ],
   "source": [
    "data.head()"
   ]
  },
  {
   "cell_type": "markdown",
   "metadata": {},
   "source": [
    "- 데이터를 다시 읽는다. : 첫번째 row skip, header = 0"
   ]
  },
  {
   "cell_type": "code",
   "execution_count": 48,
   "metadata": {},
   "outputs": [],
   "source": [
    "data = pd.read_csv(url, encoding='euc=kr', skiprows=1, header = 0)"
   ]
  },
  {
   "cell_type": "code",
   "execution_count": 49,
   "metadata": {},
   "outputs": [
    {
     "data": {
      "text/html": [
       "<div>\n",
       "<style scoped>\n",
       "    .dataframe tbody tr th:only-of-type {\n",
       "        vertical-align: middle;\n",
       "    }\n",
       "\n",
       "    .dataframe tbody tr th {\n",
       "        vertical-align: top;\n",
       "    }\n",
       "\n",
       "    .dataframe thead th {\n",
       "        text-align: right;\n",
       "    }\n",
       "</style>\n",
       "<table border=\"1\" class=\"dataframe\">\n",
       "  <thead>\n",
       "    <tr style=\"text-align: right;\">\n",
       "      <th></th>\n",
       "      <th>Unnamed: 0</th>\n",
       "      <th>Unnamed: 1</th>\n",
       "      <th>Unnamed: 2</th>\n",
       "      <th>Unnamed: 3</th>\n",
       "      <th>Unnamed: 4</th>\n",
       "      <th>Unnamed: 5</th>\n",
       "      <th>Unnamed: 6</th>\n",
       "      <th>Unnamed: 7</th>\n",
       "      <th>Unnamed: 8</th>\n",
       "      <th>Unnamed: 9</th>\n",
       "      <th>Unnamed: 10</th>\n",
       "      <th>Unnamed: 11</th>\n",
       "      <th>Unnamed: 12</th>\n",
       "      <th>Unnamed: 13</th>\n",
       "      <th>Unnamed: 14</th>\n",
       "      <th>Unnamed: 15</th>\n",
       "      <th>Unnamed: 16</th>\n",
       "      <th>Unnamed: 17</th>\n",
       "      <th>Unnamed: 18</th>\n",
       "      <th>Unnamed: 19</th>\n",
       "      <th>Unnamed: 20</th>\n",
       "      <th>Unnamed: 21</th>\n",
       "      <th>Unnamed: 22</th>\n",
       "      <th>Unnamed: 23</th>\n",
       "      <th>Unnamed: 24</th>\n",
       "      <th>Unnamed: 25</th>\n",
       "      <th>Unnamed: 26</th>\n",
       "    </tr>\n",
       "  </thead>\n",
       "  <tbody>\n",
       "    <tr>\n",
       "      <th>0</th>\n",
       "      <td>구분</td>\n",
       "      <td>NaN</td>\n",
       "      <td>2013년</td>\n",
       "      <td>2014년</td>\n",
       "      <td>NaN</td>\n",
       "      <td>NaN</td>\n",
       "      <td>NaN</td>\n",
       "      <td>NaN</td>\n",
       "      <td>NaN</td>\n",
       "      <td>NaN</td>\n",
       "      <td>NaN</td>\n",
       "      <td>NaN</td>\n",
       "      <td>NaN</td>\n",
       "      <td>NaN</td>\n",
       "      <td>NaN</td>\n",
       "      <td>2015년</td>\n",
       "      <td>NaN</td>\n",
       "      <td>NaN</td>\n",
       "      <td>NaN</td>\n",
       "      <td>NaN</td>\n",
       "      <td>NaN</td>\n",
       "      <td>NaN</td>\n",
       "      <td>NaN</td>\n",
       "      <td>NaN</td>\n",
       "      <td>NaN</td>\n",
       "      <td>NaN</td>\n",
       "      <td>(단위: 천원/3.3㎡)</td>\n",
       "    </tr>\n",
       "    <tr>\n",
       "      <th>1</th>\n",
       "      <td>시도</td>\n",
       "      <td>시군구</td>\n",
       "      <td>12월</td>\n",
       "      <td>1월</td>\n",
       "      <td>2월</td>\n",
       "      <td>3월</td>\n",
       "      <td>4월</td>\n",
       "      <td>5월</td>\n",
       "      <td>6월</td>\n",
       "      <td>7월</td>\n",
       "      <td>8월</td>\n",
       "      <td>9월</td>\n",
       "      <td>10월</td>\n",
       "      <td>11월</td>\n",
       "      <td>12월</td>\n",
       "      <td>1월</td>\n",
       "      <td>2월</td>\n",
       "      <td>3월</td>\n",
       "      <td>4월</td>\n",
       "      <td>5월</td>\n",
       "      <td>6월</td>\n",
       "      <td>7월</td>\n",
       "      <td>8월</td>\n",
       "      <td>9월</td>\n",
       "      <td>전월비</td>\n",
       "      <td>전년말비</td>\n",
       "      <td>전년동월비</td>\n",
       "    </tr>\n",
       "    <tr>\n",
       "      <th>2</th>\n",
       "      <td>전국</td>\n",
       "      <td>NaN</td>\n",
       "      <td>8,059</td>\n",
       "      <td>8,130</td>\n",
       "      <td>8,195</td>\n",
       "      <td>8,204</td>\n",
       "      <td>8,289</td>\n",
       "      <td>8,358</td>\n",
       "      <td>8,344</td>\n",
       "      <td>8,333</td>\n",
       "      <td>8,395</td>\n",
       "      <td>8,459</td>\n",
       "      <td>8,488</td>\n",
       "      <td>8,569</td>\n",
       "      <td>8,584</td>\n",
       "      <td>8,605</td>\n",
       "      <td>8,602</td>\n",
       "      <td>8,563</td>\n",
       "      <td>8,613</td>\n",
       "      <td>8,624</td>\n",
       "      <td>8,627</td>\n",
       "      <td>8,643</td>\n",
       "      <td>8,678</td>\n",
       "      <td>8,665</td>\n",
       "      <td>-13</td>\n",
       "      <td>82</td>\n",
       "      <td>207</td>\n",
       "    </tr>\n",
       "    <tr>\n",
       "      <th>3</th>\n",
       "      <td>서울</td>\n",
       "      <td>NaN</td>\n",
       "      <td>18,189</td>\n",
       "      <td>17,925</td>\n",
       "      <td>17,925</td>\n",
       "      <td>18,016</td>\n",
       "      <td>18,098</td>\n",
       "      <td>19,446</td>\n",
       "      <td>18,867</td>\n",
       "      <td>18,742</td>\n",
       "      <td>19,274</td>\n",
       "      <td>19,404</td>\n",
       "      <td>19,759</td>\n",
       "      <td>20,242</td>\n",
       "      <td>20,269</td>\n",
       "      <td>20,670</td>\n",
       "      <td>20,670</td>\n",
       "      <td>19,415</td>\n",
       "      <td>18,842</td>\n",
       "      <td>18,367</td>\n",
       "      <td>18,374</td>\n",
       "      <td>18,152</td>\n",
       "      <td>18,443</td>\n",
       "      <td>17,969</td>\n",
       "      <td>-474</td>\n",
       "      <td>-2,300</td>\n",
       "      <td>-1,434</td>\n",
       "    </tr>\n",
       "    <tr>\n",
       "      <th>4</th>\n",
       "      <td>6대광역시</td>\n",
       "      <td>부산</td>\n",
       "      <td>8,111</td>\n",
       "      <td>8,111</td>\n",
       "      <td>9,078</td>\n",
       "      <td>8,965</td>\n",
       "      <td>9,402</td>\n",
       "      <td>9,501</td>\n",
       "      <td>9,453</td>\n",
       "      <td>9,457</td>\n",
       "      <td>9,411</td>\n",
       "      <td>9,258</td>\n",
       "      <td>9,110</td>\n",
       "      <td>9,208</td>\n",
       "      <td>9,208</td>\n",
       "      <td>9,204</td>\n",
       "      <td>9,235</td>\n",
       "      <td>9,279</td>\n",
       "      <td>9,327</td>\n",
       "      <td>9,345</td>\n",
       "      <td>9,515</td>\n",
       "      <td>9,559</td>\n",
       "      <td>9,581</td>\n",
       "      <td>9,608</td>\n",
       "      <td>1</td>\n",
       "      <td>430</td>\n",
       "      <td>477</td>\n",
       "    </tr>\n",
       "  </tbody>\n",
       "</table>\n",
       "</div>"
      ],
      "text/plain": [
       "  Unnamed: 0 Unnamed: 1 Unnamed: 2 Unnamed: 3 Unnamed: 4 Unnamed: 5  \\\n",
       "0         구분        NaN      2013년      2014년        NaN        NaN   \n",
       "1         시도        시군구        12월         1월         2월         3월   \n",
       "2         전국        NaN      8,059      8,130      8,195      8,204   \n",
       "3         서울        NaN     18,189     17,925     17,925     18,016   \n",
       "4      6대광역시         부산      8,111      8,111      9,078      8,965   \n",
       "\n",
       "  Unnamed: 6 Unnamed: 7 Unnamed: 8 Unnamed: 9 Unnamed: 10 Unnamed: 11  \\\n",
       "0        NaN        NaN        NaN        NaN         NaN         NaN   \n",
       "1         4월         5월         6월         7월          8월          9월   \n",
       "2      8,289      8,358      8,344      8,333       8,395       8,459   \n",
       "3     18,098     19,446     18,867     18,742      19,274      19,404   \n",
       "4      9,402      9,501      9,453      9,457       9,411       9,258   \n",
       "\n",
       "  Unnamed: 12 Unnamed: 13 Unnamed: 14 Unnamed: 15 Unnamed: 16 Unnamed: 17  \\\n",
       "0         NaN         NaN         NaN       2015년         NaN         NaN   \n",
       "1         10월         11월         12월          1월          2월          3월   \n",
       "2       8,488       8,569       8,584       8,605       8,602       8,563   \n",
       "3      19,759      20,242      20,269      20,670      20,670      19,415   \n",
       "4       9,110       9,208       9,208       9,204       9,235       9,279   \n",
       "\n",
       "  Unnamed: 18 Unnamed: 19 Unnamed: 20 Unnamed: 21 Unnamed: 22 Unnamed: 23  \\\n",
       "0         NaN         NaN         NaN         NaN         NaN         NaN   \n",
       "1          4월          5월          6월          7월          8월          9월   \n",
       "2       8,613       8,624       8,627       8,643       8,678       8,665   \n",
       "3      18,842      18,367      18,374      18,152      18,443      17,969   \n",
       "4       9,327       9,345       9,515       9,559       9,581       9,608   \n",
       "\n",
       "  Unnamed: 24 Unnamed: 25    Unnamed: 26  \n",
       "0         NaN         NaN  (단위: 천원/3.3㎡)  \n",
       "1         전월비        전년말비          전년동월비  \n",
       "2        -13          82            207   \n",
       "3       -474      -2,300         -1,434   \n",
       "4          1         430            477   "
      ]
     },
     "execution_count": 49,
     "metadata": {},
     "output_type": "execute_result"
    }
   ],
   "source": [
    "data.head()"
   ]
  },
  {
   "cell_type": "code",
   "execution_count": 50,
   "metadata": {},
   "outputs": [
    {
     "data": {
      "text/plain": [
       "(23, 27)"
      ]
     },
     "execution_count": 50,
     "metadata": {},
     "output_type": "execute_result"
    }
   ],
   "source": [
    "data.shape"
   ]
  },
  {
   "cell_type": "markdown",
   "metadata": {},
   "source": [
    "컬럼 만들기 : 년도, 월"
   ]
  },
  {
   "cell_type": "code",
   "execution_count": 51,
   "metadata": {},
   "outputs": [],
   "source": [
    "year = data.iloc[0]\n",
    "month = data.iloc[1]"
   ]
  },
  {
   "cell_type": "code",
   "execution_count": 52,
   "metadata": {
    "scrolled": true
   },
   "outputs": [
    {
     "data": {
      "text/plain": [
       "Unnamed: 0                구분\n",
       "Unnamed: 1               NaN\n",
       "Unnamed: 2             2013년\n",
       "Unnamed: 3             2014년\n",
       "Unnamed: 4               NaN\n",
       "Unnamed: 5               NaN\n",
       "Unnamed: 6               NaN\n",
       "Unnamed: 7               NaN\n",
       "Unnamed: 8               NaN\n",
       "Unnamed: 9               NaN\n",
       "Unnamed: 10              NaN\n",
       "Unnamed: 11              NaN\n",
       "Unnamed: 12              NaN\n",
       "Unnamed: 13              NaN\n",
       "Unnamed: 14              NaN\n",
       "Unnamed: 15            2015년\n",
       "Unnamed: 16              NaN\n",
       "Unnamed: 17              NaN\n",
       "Unnamed: 18              NaN\n",
       "Unnamed: 19              NaN\n",
       "Unnamed: 20              NaN\n",
       "Unnamed: 21              NaN\n",
       "Unnamed: 22              NaN\n",
       "Unnamed: 23              NaN\n",
       "Unnamed: 24              NaN\n",
       "Unnamed: 25              NaN\n",
       "Unnamed: 26    (단위: 천원/3.3㎡)\n",
       "Name: 0, dtype: object"
      ]
     },
     "execution_count": 52,
     "metadata": {},
     "output_type": "execute_result"
    }
   ],
   "source": [
    "year"
   ]
  },
  {
   "cell_type": "code",
   "execution_count": 53,
   "metadata": {},
   "outputs": [],
   "source": [
    "# 컬럼을 새로 만들어 주기 위해 0번째와 1번째 행을 합쳐준다.\n",
    "for i, y in enumerate(year):\n",
    "    if i > 2 and i < 15:\n",
    "        year[i] = ' '.join(['2014년', month[i]])\n",
    "    elif i >= 15:\n",
    "        year[i] = ' '.join(['2015년', month[i]])\n",
    "    elif i == 2 :\n",
    "        year[i] = ' '.join([year[i], month[i]])\n",
    "    elif i == 1:\n",
    "        year[i] = '시군구'"
   ]
  },
  {
   "cell_type": "code",
   "execution_count": 54,
   "metadata": {
    "scrolled": true
   },
   "outputs": [
    {
     "name": "stdout",
     "output_type": "stream",
     "text": [
      "Unnamed: 0              구분\n",
      "Unnamed: 1             시군구\n",
      "Unnamed: 2       2013년 12월\n",
      "Unnamed: 3        2014년 1월\n",
      "Unnamed: 4        2014년 2월\n",
      "Unnamed: 5        2014년 3월\n",
      "Unnamed: 6        2014년 4월\n",
      "Unnamed: 7        2014년 5월\n",
      "Unnamed: 8        2014년 6월\n",
      "Unnamed: 9        2014년 7월\n",
      "Unnamed: 10       2014년 8월\n",
      "Unnamed: 11       2014년 9월\n",
      "Unnamed: 12      2014년 10월\n",
      "Unnamed: 13      2014년 11월\n",
      "Unnamed: 14      2014년 12월\n",
      "Unnamed: 15       2015년 1월\n",
      "Unnamed: 16       2015년 2월\n",
      "Unnamed: 17       2015년 3월\n",
      "Unnamed: 18       2015년 4월\n",
      "Unnamed: 19       2015년 5월\n",
      "Unnamed: 20       2015년 6월\n",
      "Unnamed: 21       2015년 7월\n",
      "Unnamed: 22       2015년 8월\n",
      "Unnamed: 23       2015년 9월\n",
      "Unnamed: 24      2015년 전월비\n",
      "Unnamed: 25     2015년 전년말비\n",
      "Unnamed: 26    2015년 전년동월비\n",
      "Name: 0, dtype: object\n"
     ]
    }
   ],
   "source": [
    "print(year)"
   ]
  },
  {
   "cell_type": "code",
   "execution_count": 55,
   "metadata": {},
   "outputs": [
    {
     "data": {
      "text/html": [
       "<div>\n",
       "<style scoped>\n",
       "    .dataframe tbody tr th:only-of-type {\n",
       "        vertical-align: middle;\n",
       "    }\n",
       "\n",
       "    .dataframe tbody tr th {\n",
       "        vertical-align: top;\n",
       "    }\n",
       "\n",
       "    .dataframe thead th {\n",
       "        text-align: right;\n",
       "    }\n",
       "</style>\n",
       "<table border=\"1\" class=\"dataframe\">\n",
       "  <thead>\n",
       "    <tr style=\"text-align: right;\">\n",
       "      <th></th>\n",
       "      <th>구분</th>\n",
       "      <th>시군구</th>\n",
       "      <th>2013년 12월</th>\n",
       "      <th>2014년 1월</th>\n",
       "      <th>2014년 2월</th>\n",
       "      <th>2014년 3월</th>\n",
       "      <th>2014년 4월</th>\n",
       "      <th>2014년 5월</th>\n",
       "      <th>2014년 6월</th>\n",
       "      <th>2014년 7월</th>\n",
       "      <th>2014년 8월</th>\n",
       "      <th>2014년 9월</th>\n",
       "      <th>2014년 10월</th>\n",
       "      <th>2014년 11월</th>\n",
       "      <th>2014년 12월</th>\n",
       "      <th>2015년 1월</th>\n",
       "      <th>2015년 2월</th>\n",
       "      <th>2015년 3월</th>\n",
       "      <th>2015년 4월</th>\n",
       "      <th>2015년 5월</th>\n",
       "      <th>2015년 6월</th>\n",
       "      <th>2015년 7월</th>\n",
       "      <th>2015년 8월</th>\n",
       "      <th>2015년 9월</th>\n",
       "      <th>2015년 전월비</th>\n",
       "      <th>2015년 전년말비</th>\n",
       "      <th>2015년 전년동월비</th>\n",
       "    </tr>\n",
       "  </thead>\n",
       "  <tbody>\n",
       "    <tr>\n",
       "      <th>0</th>\n",
       "      <td>구분</td>\n",
       "      <td>시군구</td>\n",
       "      <td>2013년 12월</td>\n",
       "      <td>2014년 1월</td>\n",
       "      <td>2014년 2월</td>\n",
       "      <td>2014년 3월</td>\n",
       "      <td>2014년 4월</td>\n",
       "      <td>2014년 5월</td>\n",
       "      <td>2014년 6월</td>\n",
       "      <td>2014년 7월</td>\n",
       "      <td>2014년 8월</td>\n",
       "      <td>2014년 9월</td>\n",
       "      <td>2014년 10월</td>\n",
       "      <td>2014년 11월</td>\n",
       "      <td>2014년 12월</td>\n",
       "      <td>2015년 1월</td>\n",
       "      <td>2015년 2월</td>\n",
       "      <td>2015년 3월</td>\n",
       "      <td>2015년 4월</td>\n",
       "      <td>2015년 5월</td>\n",
       "      <td>2015년 6월</td>\n",
       "      <td>2015년 7월</td>\n",
       "      <td>2015년 8월</td>\n",
       "      <td>2015년 9월</td>\n",
       "      <td>2015년 전월비</td>\n",
       "      <td>2015년 전년말비</td>\n",
       "      <td>2015년 전년동월비</td>\n",
       "    </tr>\n",
       "    <tr>\n",
       "      <th>1</th>\n",
       "      <td>시도</td>\n",
       "      <td>시군구</td>\n",
       "      <td>12월</td>\n",
       "      <td>1월</td>\n",
       "      <td>2월</td>\n",
       "      <td>3월</td>\n",
       "      <td>4월</td>\n",
       "      <td>5월</td>\n",
       "      <td>6월</td>\n",
       "      <td>7월</td>\n",
       "      <td>8월</td>\n",
       "      <td>9월</td>\n",
       "      <td>10월</td>\n",
       "      <td>11월</td>\n",
       "      <td>12월</td>\n",
       "      <td>1월</td>\n",
       "      <td>2월</td>\n",
       "      <td>3월</td>\n",
       "      <td>4월</td>\n",
       "      <td>5월</td>\n",
       "      <td>6월</td>\n",
       "      <td>7월</td>\n",
       "      <td>8월</td>\n",
       "      <td>9월</td>\n",
       "      <td>전월비</td>\n",
       "      <td>전년말비</td>\n",
       "      <td>전년동월비</td>\n",
       "    </tr>\n",
       "    <tr>\n",
       "      <th>2</th>\n",
       "      <td>전국</td>\n",
       "      <td>NaN</td>\n",
       "      <td>8,059</td>\n",
       "      <td>8,130</td>\n",
       "      <td>8,195</td>\n",
       "      <td>8,204</td>\n",
       "      <td>8,289</td>\n",
       "      <td>8,358</td>\n",
       "      <td>8,344</td>\n",
       "      <td>8,333</td>\n",
       "      <td>8,395</td>\n",
       "      <td>8,459</td>\n",
       "      <td>8,488</td>\n",
       "      <td>8,569</td>\n",
       "      <td>8,584</td>\n",
       "      <td>8,605</td>\n",
       "      <td>8,602</td>\n",
       "      <td>8,563</td>\n",
       "      <td>8,613</td>\n",
       "      <td>8,624</td>\n",
       "      <td>8,627</td>\n",
       "      <td>8,643</td>\n",
       "      <td>8,678</td>\n",
       "      <td>8,665</td>\n",
       "      <td>-13</td>\n",
       "      <td>82</td>\n",
       "      <td>207</td>\n",
       "    </tr>\n",
       "    <tr>\n",
       "      <th>3</th>\n",
       "      <td>서울</td>\n",
       "      <td>NaN</td>\n",
       "      <td>18,189</td>\n",
       "      <td>17,925</td>\n",
       "      <td>17,925</td>\n",
       "      <td>18,016</td>\n",
       "      <td>18,098</td>\n",
       "      <td>19,446</td>\n",
       "      <td>18,867</td>\n",
       "      <td>18,742</td>\n",
       "      <td>19,274</td>\n",
       "      <td>19,404</td>\n",
       "      <td>19,759</td>\n",
       "      <td>20,242</td>\n",
       "      <td>20,269</td>\n",
       "      <td>20,670</td>\n",
       "      <td>20,670</td>\n",
       "      <td>19,415</td>\n",
       "      <td>18,842</td>\n",
       "      <td>18,367</td>\n",
       "      <td>18,374</td>\n",
       "      <td>18,152</td>\n",
       "      <td>18,443</td>\n",
       "      <td>17,969</td>\n",
       "      <td>-474</td>\n",
       "      <td>-2,300</td>\n",
       "      <td>-1,434</td>\n",
       "    </tr>\n",
       "    <tr>\n",
       "      <th>4</th>\n",
       "      <td>6대광역시</td>\n",
       "      <td>부산</td>\n",
       "      <td>8,111</td>\n",
       "      <td>8,111</td>\n",
       "      <td>9,078</td>\n",
       "      <td>8,965</td>\n",
       "      <td>9,402</td>\n",
       "      <td>9,501</td>\n",
       "      <td>9,453</td>\n",
       "      <td>9,457</td>\n",
       "      <td>9,411</td>\n",
       "      <td>9,258</td>\n",
       "      <td>9,110</td>\n",
       "      <td>9,208</td>\n",
       "      <td>9,208</td>\n",
       "      <td>9,204</td>\n",
       "      <td>9,235</td>\n",
       "      <td>9,279</td>\n",
       "      <td>9,327</td>\n",
       "      <td>9,345</td>\n",
       "      <td>9,515</td>\n",
       "      <td>9,559</td>\n",
       "      <td>9,581</td>\n",
       "      <td>9,608</td>\n",
       "      <td>1</td>\n",
       "      <td>430</td>\n",
       "      <td>477</td>\n",
       "    </tr>\n",
       "  </tbody>\n",
       "</table>\n",
       "</div>"
      ],
      "text/plain": [
       "0     구분  시군구  2013년 12월  2014년 1월  2014년 2월  2014년 3월  2014년 4월  2014년 5월  \\\n",
       "0     구분  시군구  2013년 12월  2014년 1월  2014년 2월  2014년 3월  2014년 4월  2014년 5월   \n",
       "1     시도  시군구        12월        1월        2월        3월        4월        5월   \n",
       "2     전국  NaN      8,059     8,130     8,195     8,204     8,289     8,358   \n",
       "3     서울  NaN     18,189    17,925    17,925    18,016    18,098    19,446   \n",
       "4  6대광역시   부산      8,111     8,111     9,078     8,965     9,402     9,501   \n",
       "\n",
       "0  2014년 6월  2014년 7월  2014년 8월  2014년 9월  2014년 10월  2014년 11월  2014년 12월  \\\n",
       "0  2014년 6월  2014년 7월  2014년 8월  2014년 9월  2014년 10월  2014년 11월  2014년 12월   \n",
       "1        6월        7월        8월        9월        10월        11월        12월   \n",
       "2     8,344     8,333     8,395     8,459      8,488      8,569      8,584   \n",
       "3    18,867    18,742    19,274    19,404     19,759     20,242     20,269   \n",
       "4     9,453     9,457     9,411     9,258      9,110      9,208      9,208   \n",
       "\n",
       "0  2015년 1월  2015년 2월  2015년 3월  2015년 4월  2015년 5월  2015년 6월  2015년 7월  \\\n",
       "0  2015년 1월  2015년 2월  2015년 3월  2015년 4월  2015년 5월  2015년 6월  2015년 7월   \n",
       "1        1월        2월        3월        4월        5월        6월        7월   \n",
       "2     8,605     8,602     8,563     8,613     8,624     8,627     8,643   \n",
       "3    20,670    20,670    19,415    18,842    18,367    18,374    18,152   \n",
       "4     9,204     9,235     9,279     9,327     9,345     9,515     9,559   \n",
       "\n",
       "0  2015년 8월  2015년 9월  2015년 전월비  2015년 전년말비  2015년 전년동월비  \n",
       "0  2015년 8월  2015년 9월  2015년 전월비  2015년 전년말비  2015년 전년동월비  \n",
       "1        8월        9월        전월비        전년말비        전년동월비  \n",
       "2     8,678     8,665       -13          82          207   \n",
       "3    18,443    17,969      -474      -2,300       -1,434   \n",
       "4     9,581     9,608         1         430          477   "
      ]
     },
     "execution_count": 55,
     "metadata": {},
     "output_type": "execute_result"
    }
   ],
   "source": [
    "data.columns = year\n",
    "data.head()"
   ]
  },
  {
   "cell_type": "markdown",
   "metadata": {},
   "source": [
    "- 이제 첫번째, 두번째 row를 삭제해도 된다."
   ]
  },
  {
   "cell_type": "code",
   "execution_count": 56,
   "metadata": {},
   "outputs": [],
   "source": [
    "data = data.drop(labels = data.index[[0, 1]], axis = 0)"
   ]
  },
  {
   "cell_type": "code",
   "execution_count": 57,
   "metadata": {},
   "outputs": [
    {
     "data": {
      "text/html": [
       "<div>\n",
       "<style scoped>\n",
       "    .dataframe tbody tr th:only-of-type {\n",
       "        vertical-align: middle;\n",
       "    }\n",
       "\n",
       "    .dataframe tbody tr th {\n",
       "        vertical-align: top;\n",
       "    }\n",
       "\n",
       "    .dataframe thead th {\n",
       "        text-align: right;\n",
       "    }\n",
       "</style>\n",
       "<table border=\"1\" class=\"dataframe\">\n",
       "  <thead>\n",
       "    <tr style=\"text-align: right;\">\n",
       "      <th></th>\n",
       "      <th>구분</th>\n",
       "      <th>시군구</th>\n",
       "      <th>2013년 12월</th>\n",
       "      <th>2014년 1월</th>\n",
       "      <th>2014년 2월</th>\n",
       "      <th>2014년 3월</th>\n",
       "      <th>2014년 4월</th>\n",
       "      <th>2014년 5월</th>\n",
       "      <th>2014년 6월</th>\n",
       "      <th>2014년 7월</th>\n",
       "      <th>2014년 8월</th>\n",
       "      <th>2014년 9월</th>\n",
       "      <th>2014년 10월</th>\n",
       "      <th>2014년 11월</th>\n",
       "      <th>2014년 12월</th>\n",
       "      <th>2015년 1월</th>\n",
       "      <th>2015년 2월</th>\n",
       "      <th>2015년 3월</th>\n",
       "      <th>2015년 4월</th>\n",
       "      <th>2015년 5월</th>\n",
       "      <th>2015년 6월</th>\n",
       "      <th>2015년 7월</th>\n",
       "      <th>2015년 8월</th>\n",
       "      <th>2015년 9월</th>\n",
       "      <th>2015년 전월비</th>\n",
       "      <th>2015년 전년말비</th>\n",
       "      <th>2015년 전년동월비</th>\n",
       "    </tr>\n",
       "  </thead>\n",
       "  <tbody>\n",
       "    <tr>\n",
       "      <th>2</th>\n",
       "      <td>전국</td>\n",
       "      <td>NaN</td>\n",
       "      <td>8,059</td>\n",
       "      <td>8,130</td>\n",
       "      <td>8,195</td>\n",
       "      <td>8,204</td>\n",
       "      <td>8,289</td>\n",
       "      <td>8,358</td>\n",
       "      <td>8,344</td>\n",
       "      <td>8,333</td>\n",
       "      <td>8,395</td>\n",
       "      <td>8,459</td>\n",
       "      <td>8,488</td>\n",
       "      <td>8,569</td>\n",
       "      <td>8,584</td>\n",
       "      <td>8,605</td>\n",
       "      <td>8,602</td>\n",
       "      <td>8,563</td>\n",
       "      <td>8,613</td>\n",
       "      <td>8,624</td>\n",
       "      <td>8,627</td>\n",
       "      <td>8,643</td>\n",
       "      <td>8,678</td>\n",
       "      <td>8,665</td>\n",
       "      <td>-13</td>\n",
       "      <td>82</td>\n",
       "      <td>207</td>\n",
       "    </tr>\n",
       "    <tr>\n",
       "      <th>3</th>\n",
       "      <td>서울</td>\n",
       "      <td>NaN</td>\n",
       "      <td>18,189</td>\n",
       "      <td>17,925</td>\n",
       "      <td>17,925</td>\n",
       "      <td>18,016</td>\n",
       "      <td>18,098</td>\n",
       "      <td>19,446</td>\n",
       "      <td>18,867</td>\n",
       "      <td>18,742</td>\n",
       "      <td>19,274</td>\n",
       "      <td>19,404</td>\n",
       "      <td>19,759</td>\n",
       "      <td>20,242</td>\n",
       "      <td>20,269</td>\n",
       "      <td>20,670</td>\n",
       "      <td>20,670</td>\n",
       "      <td>19,415</td>\n",
       "      <td>18,842</td>\n",
       "      <td>18,367</td>\n",
       "      <td>18,374</td>\n",
       "      <td>18,152</td>\n",
       "      <td>18,443</td>\n",
       "      <td>17,969</td>\n",
       "      <td>-474</td>\n",
       "      <td>-2,300</td>\n",
       "      <td>-1,434</td>\n",
       "    </tr>\n",
       "    <tr>\n",
       "      <th>4</th>\n",
       "      <td>6대광역시</td>\n",
       "      <td>부산</td>\n",
       "      <td>8,111</td>\n",
       "      <td>8,111</td>\n",
       "      <td>9,078</td>\n",
       "      <td>8,965</td>\n",
       "      <td>9,402</td>\n",
       "      <td>9,501</td>\n",
       "      <td>9,453</td>\n",
       "      <td>9,457</td>\n",
       "      <td>9,411</td>\n",
       "      <td>9,258</td>\n",
       "      <td>9,110</td>\n",
       "      <td>9,208</td>\n",
       "      <td>9,208</td>\n",
       "      <td>9,204</td>\n",
       "      <td>9,235</td>\n",
       "      <td>9,279</td>\n",
       "      <td>9,327</td>\n",
       "      <td>9,345</td>\n",
       "      <td>9,515</td>\n",
       "      <td>9,559</td>\n",
       "      <td>9,581</td>\n",
       "      <td>9,608</td>\n",
       "      <td>1</td>\n",
       "      <td>430</td>\n",
       "      <td>477</td>\n",
       "    </tr>\n",
       "    <tr>\n",
       "      <th>5</th>\n",
       "      <td>NaN</td>\n",
       "      <td>대구</td>\n",
       "      <td>8,080</td>\n",
       "      <td>8,080</td>\n",
       "      <td>8,077</td>\n",
       "      <td>8,101</td>\n",
       "      <td>8,267</td>\n",
       "      <td>8,274</td>\n",
       "      <td>8,360</td>\n",
       "      <td>8,360</td>\n",
       "      <td>8,370</td>\n",
       "      <td>8,449</td>\n",
       "      <td>8,403</td>\n",
       "      <td>8,439</td>\n",
       "      <td>8,253</td>\n",
       "      <td>8,327</td>\n",
       "      <td>8,416</td>\n",
       "      <td>8,441</td>\n",
       "      <td>8,446</td>\n",
       "      <td>8,568</td>\n",
       "      <td>8,542</td>\n",
       "      <td>8,542</td>\n",
       "      <td>8,795</td>\n",
       "      <td>8,863</td>\n",
       "      <td>27</td>\n",
       "      <td>400</td>\n",
       "      <td>350</td>\n",
       "    </tr>\n",
       "    <tr>\n",
       "      <th>6</th>\n",
       "      <td>NaN</td>\n",
       "      <td>인천</td>\n",
       "      <td>10,204</td>\n",
       "      <td>10,204</td>\n",
       "      <td>10,408</td>\n",
       "      <td>10,408</td>\n",
       "      <td>10,000</td>\n",
       "      <td>9,844</td>\n",
       "      <td>10,058</td>\n",
       "      <td>9,974</td>\n",
       "      <td>9,973</td>\n",
       "      <td>9,973</td>\n",
       "      <td>10,016</td>\n",
       "      <td>10,020</td>\n",
       "      <td>10,020</td>\n",
       "      <td>10,017</td>\n",
       "      <td>9,876</td>\n",
       "      <td>9,876</td>\n",
       "      <td>9,938</td>\n",
       "      <td>10,551</td>\n",
       "      <td>10,443</td>\n",
       "      <td>10,443</td>\n",
       "      <td>10,449</td>\n",
       "      <td>10,450</td>\n",
       "      <td>-162</td>\n",
       "      <td>-150</td>\n",
       "      <td>-131</td>\n",
       "    </tr>\n",
       "  </tbody>\n",
       "</table>\n",
       "</div>"
      ],
      "text/plain": [
       "0     구분  시군구 2013년 12월 2014년 1월 2014년 2월 2014년 3월 2014년 4월 2014년 5월 2014년 6월  \\\n",
       "2     전국  NaN     8,059    8,130    8,195    8,204    8,289    8,358    8,344   \n",
       "3     서울  NaN    18,189   17,925   17,925   18,016   18,098   19,446   18,867   \n",
       "4  6대광역시   부산     8,111    8,111    9,078    8,965    9,402    9,501    9,453   \n",
       "5    NaN   대구     8,080    8,080    8,077    8,101    8,267    8,274    8,360   \n",
       "6    NaN   인천    10,204   10,204   10,408   10,408   10,000    9,844   10,058   \n",
       "\n",
       "0 2014년 7월 2014년 8월 2014년 9월 2014년 10월 2014년 11월 2014년 12월 2015년 1월 2015년 2월  \\\n",
       "2    8,333    8,395    8,459     8,488     8,569     8,584    8,605    8,602   \n",
       "3   18,742   19,274   19,404    19,759    20,242    20,269   20,670   20,670   \n",
       "4    9,457    9,411    9,258     9,110     9,208     9,208    9,204    9,235   \n",
       "5    8,360    8,370    8,449     8,403     8,439     8,253    8,327    8,416   \n",
       "6    9,974    9,973    9,973    10,016    10,020    10,020   10,017    9,876   \n",
       "\n",
       "0 2015년 3월 2015년 4월 2015년 5월 2015년 6월 2015년 7월 2015년 8월 2015년 9월 2015년 전월비  \\\n",
       "2    8,563    8,613    8,624    8,627    8,643    8,678    8,665      -13    \n",
       "3   19,415   18,842   18,367   18,374   18,152   18,443   17,969     -474    \n",
       "4    9,279    9,327    9,345    9,515    9,559    9,581    9,608        1    \n",
       "5    8,441    8,446    8,568    8,542    8,542    8,795    8,863       27    \n",
       "6    9,876    9,938   10,551   10,443   10,443   10,449   10,450     -162    \n",
       "\n",
       "0 2015년 전년말비 2015년 전년동월비  \n",
       "2        82         207   \n",
       "3    -2,300      -1,434   \n",
       "4       430         477   \n",
       "5       400         350   \n",
       "6      -150        -131   "
      ]
     },
     "execution_count": 57,
     "metadata": {},
     "output_type": "execute_result"
    }
   ],
   "source": [
    "data.head()"
   ]
  },
  {
   "cell_type": "markdown",
   "metadata": {},
   "source": [
    "`구분`, `시군구` 컬럼의 결측치 처리"
   ]
  },
  {
   "cell_type": "code",
   "execution_count": 58,
   "metadata": {},
   "outputs": [],
   "source": [
    "data['구분'] = data['구분'].fillna('')\n",
    "data['시군구'] = data['시군구'].fillna('')"
   ]
  },
  {
   "cell_type": "code",
   "execution_count": 59,
   "metadata": {},
   "outputs": [
    {
     "data": {
      "text/html": [
       "<div>\n",
       "<style scoped>\n",
       "    .dataframe tbody tr th:only-of-type {\n",
       "        vertical-align: middle;\n",
       "    }\n",
       "\n",
       "    .dataframe tbody tr th {\n",
       "        vertical-align: top;\n",
       "    }\n",
       "\n",
       "    .dataframe thead th {\n",
       "        text-align: right;\n",
       "    }\n",
       "</style>\n",
       "<table border=\"1\" class=\"dataframe\">\n",
       "  <thead>\n",
       "    <tr style=\"text-align: right;\">\n",
       "      <th></th>\n",
       "      <th>구분</th>\n",
       "      <th>시군구</th>\n",
       "      <th>2013년 12월</th>\n",
       "      <th>2014년 1월</th>\n",
       "      <th>2014년 2월</th>\n",
       "      <th>2014년 3월</th>\n",
       "      <th>2014년 4월</th>\n",
       "      <th>2014년 5월</th>\n",
       "      <th>2014년 6월</th>\n",
       "      <th>2014년 7월</th>\n",
       "      <th>2014년 8월</th>\n",
       "      <th>2014년 9월</th>\n",
       "      <th>2014년 10월</th>\n",
       "      <th>2014년 11월</th>\n",
       "      <th>2014년 12월</th>\n",
       "      <th>2015년 1월</th>\n",
       "      <th>2015년 2월</th>\n",
       "      <th>2015년 3월</th>\n",
       "      <th>2015년 4월</th>\n",
       "      <th>2015년 5월</th>\n",
       "      <th>2015년 6월</th>\n",
       "      <th>2015년 7월</th>\n",
       "      <th>2015년 8월</th>\n",
       "      <th>2015년 9월</th>\n",
       "      <th>2015년 전월비</th>\n",
       "      <th>2015년 전년말비</th>\n",
       "      <th>2015년 전년동월비</th>\n",
       "    </tr>\n",
       "  </thead>\n",
       "  <tbody>\n",
       "    <tr>\n",
       "      <th>2</th>\n",
       "      <td>전국</td>\n",
       "      <td></td>\n",
       "      <td>8,059</td>\n",
       "      <td>8,130</td>\n",
       "      <td>8,195</td>\n",
       "      <td>8,204</td>\n",
       "      <td>8,289</td>\n",
       "      <td>8,358</td>\n",
       "      <td>8,344</td>\n",
       "      <td>8,333</td>\n",
       "      <td>8,395</td>\n",
       "      <td>8,459</td>\n",
       "      <td>8,488</td>\n",
       "      <td>8,569</td>\n",
       "      <td>8,584</td>\n",
       "      <td>8,605</td>\n",
       "      <td>8,602</td>\n",
       "      <td>8,563</td>\n",
       "      <td>8,613</td>\n",
       "      <td>8,624</td>\n",
       "      <td>8,627</td>\n",
       "      <td>8,643</td>\n",
       "      <td>8,678</td>\n",
       "      <td>8,665</td>\n",
       "      <td>-13</td>\n",
       "      <td>82</td>\n",
       "      <td>207</td>\n",
       "    </tr>\n",
       "    <tr>\n",
       "      <th>3</th>\n",
       "      <td>서울</td>\n",
       "      <td></td>\n",
       "      <td>18,189</td>\n",
       "      <td>17,925</td>\n",
       "      <td>17,925</td>\n",
       "      <td>18,016</td>\n",
       "      <td>18,098</td>\n",
       "      <td>19,446</td>\n",
       "      <td>18,867</td>\n",
       "      <td>18,742</td>\n",
       "      <td>19,274</td>\n",
       "      <td>19,404</td>\n",
       "      <td>19,759</td>\n",
       "      <td>20,242</td>\n",
       "      <td>20,269</td>\n",
       "      <td>20,670</td>\n",
       "      <td>20,670</td>\n",
       "      <td>19,415</td>\n",
       "      <td>18,842</td>\n",
       "      <td>18,367</td>\n",
       "      <td>18,374</td>\n",
       "      <td>18,152</td>\n",
       "      <td>18,443</td>\n",
       "      <td>17,969</td>\n",
       "      <td>-474</td>\n",
       "      <td>-2,300</td>\n",
       "      <td>-1,434</td>\n",
       "    </tr>\n",
       "    <tr>\n",
       "      <th>4</th>\n",
       "      <td>6대광역시</td>\n",
       "      <td>부산</td>\n",
       "      <td>8,111</td>\n",
       "      <td>8,111</td>\n",
       "      <td>9,078</td>\n",
       "      <td>8,965</td>\n",
       "      <td>9,402</td>\n",
       "      <td>9,501</td>\n",
       "      <td>9,453</td>\n",
       "      <td>9,457</td>\n",
       "      <td>9,411</td>\n",
       "      <td>9,258</td>\n",
       "      <td>9,110</td>\n",
       "      <td>9,208</td>\n",
       "      <td>9,208</td>\n",
       "      <td>9,204</td>\n",
       "      <td>9,235</td>\n",
       "      <td>9,279</td>\n",
       "      <td>9,327</td>\n",
       "      <td>9,345</td>\n",
       "      <td>9,515</td>\n",
       "      <td>9,559</td>\n",
       "      <td>9,581</td>\n",
       "      <td>9,608</td>\n",
       "      <td>1</td>\n",
       "      <td>430</td>\n",
       "      <td>477</td>\n",
       "    </tr>\n",
       "    <tr>\n",
       "      <th>5</th>\n",
       "      <td></td>\n",
       "      <td>대구</td>\n",
       "      <td>8,080</td>\n",
       "      <td>8,080</td>\n",
       "      <td>8,077</td>\n",
       "      <td>8,101</td>\n",
       "      <td>8,267</td>\n",
       "      <td>8,274</td>\n",
       "      <td>8,360</td>\n",
       "      <td>8,360</td>\n",
       "      <td>8,370</td>\n",
       "      <td>8,449</td>\n",
       "      <td>8,403</td>\n",
       "      <td>8,439</td>\n",
       "      <td>8,253</td>\n",
       "      <td>8,327</td>\n",
       "      <td>8,416</td>\n",
       "      <td>8,441</td>\n",
       "      <td>8,446</td>\n",
       "      <td>8,568</td>\n",
       "      <td>8,542</td>\n",
       "      <td>8,542</td>\n",
       "      <td>8,795</td>\n",
       "      <td>8,863</td>\n",
       "      <td>27</td>\n",
       "      <td>400</td>\n",
       "      <td>350</td>\n",
       "    </tr>\n",
       "    <tr>\n",
       "      <th>6</th>\n",
       "      <td></td>\n",
       "      <td>인천</td>\n",
       "      <td>10,204</td>\n",
       "      <td>10,204</td>\n",
       "      <td>10,408</td>\n",
       "      <td>10,408</td>\n",
       "      <td>10,000</td>\n",
       "      <td>9,844</td>\n",
       "      <td>10,058</td>\n",
       "      <td>9,974</td>\n",
       "      <td>9,973</td>\n",
       "      <td>9,973</td>\n",
       "      <td>10,016</td>\n",
       "      <td>10,020</td>\n",
       "      <td>10,020</td>\n",
       "      <td>10,017</td>\n",
       "      <td>9,876</td>\n",
       "      <td>9,876</td>\n",
       "      <td>9,938</td>\n",
       "      <td>10,551</td>\n",
       "      <td>10,443</td>\n",
       "      <td>10,443</td>\n",
       "      <td>10,449</td>\n",
       "      <td>10,450</td>\n",
       "      <td>-162</td>\n",
       "      <td>-150</td>\n",
       "      <td>-131</td>\n",
       "    </tr>\n",
       "  </tbody>\n",
       "</table>\n",
       "</div>"
      ],
      "text/plain": [
       "0     구분 시군구 2013년 12월 2014년 1월 2014년 2월 2014년 3월 2014년 4월 2014년 5월 2014년 6월  \\\n",
       "2     전국         8,059    8,130    8,195    8,204    8,289    8,358    8,344   \n",
       "3     서울        18,189   17,925   17,925   18,016   18,098   19,446   18,867   \n",
       "4  6대광역시  부산     8,111    8,111    9,078    8,965    9,402    9,501    9,453   \n",
       "5         대구     8,080    8,080    8,077    8,101    8,267    8,274    8,360   \n",
       "6         인천    10,204   10,204   10,408   10,408   10,000    9,844   10,058   \n",
       "\n",
       "0 2014년 7월 2014년 8월 2014년 9월 2014년 10월 2014년 11월 2014년 12월 2015년 1월 2015년 2월  \\\n",
       "2    8,333    8,395    8,459     8,488     8,569     8,584    8,605    8,602   \n",
       "3   18,742   19,274   19,404    19,759    20,242    20,269   20,670   20,670   \n",
       "4    9,457    9,411    9,258     9,110     9,208     9,208    9,204    9,235   \n",
       "5    8,360    8,370    8,449     8,403     8,439     8,253    8,327    8,416   \n",
       "6    9,974    9,973    9,973    10,016    10,020    10,020   10,017    9,876   \n",
       "\n",
       "0 2015년 3월 2015년 4월 2015년 5월 2015년 6월 2015년 7월 2015년 8월 2015년 9월 2015년 전월비  \\\n",
       "2    8,563    8,613    8,624    8,627    8,643    8,678    8,665      -13    \n",
       "3   19,415   18,842   18,367   18,374   18,152   18,443   17,969     -474    \n",
       "4    9,279    9,327    9,345    9,515    9,559    9,581    9,608        1    \n",
       "5    8,441    8,446    8,568    8,542    8,542    8,795    8,863       27    \n",
       "6    9,876    9,938   10,551   10,443   10,443   10,449   10,450     -162    \n",
       "\n",
       "0 2015년 전년말비 2015년 전년동월비  \n",
       "2        82         207   \n",
       "3    -2,300      -1,434   \n",
       "4       430         477   \n",
       "5       400         350   \n",
       "6      -150        -131   "
      ]
     },
     "execution_count": 59,
     "metadata": {},
     "output_type": "execute_result"
    }
   ],
   "source": [
    "data.head()"
   ]
  },
  {
   "cell_type": "markdown",
   "metadata": {},
   "source": [
    "`구분`, `시군구` 컬럼 합치기"
   ]
  },
  {
   "cell_type": "code",
   "execution_count": 60,
   "metadata": {},
   "outputs": [],
   "source": [
    "data['지역'] = data['구분'] + data['시군구']"
   ]
  },
  {
   "cell_type": "code",
   "execution_count": 61,
   "metadata": {},
   "outputs": [
    {
     "data": {
      "text/html": [
       "<div>\n",
       "<style scoped>\n",
       "    .dataframe tbody tr th:only-of-type {\n",
       "        vertical-align: middle;\n",
       "    }\n",
       "\n",
       "    .dataframe tbody tr th {\n",
       "        vertical-align: top;\n",
       "    }\n",
       "\n",
       "    .dataframe thead th {\n",
       "        text-align: right;\n",
       "    }\n",
       "</style>\n",
       "<table border=\"1\" class=\"dataframe\">\n",
       "  <thead>\n",
       "    <tr style=\"text-align: right;\">\n",
       "      <th></th>\n",
       "      <th>구분</th>\n",
       "      <th>시군구</th>\n",
       "      <th>2013년 12월</th>\n",
       "      <th>2014년 1월</th>\n",
       "      <th>2014년 2월</th>\n",
       "      <th>2014년 3월</th>\n",
       "      <th>2014년 4월</th>\n",
       "      <th>2014년 5월</th>\n",
       "      <th>2014년 6월</th>\n",
       "      <th>2014년 7월</th>\n",
       "      <th>2014년 8월</th>\n",
       "      <th>2014년 9월</th>\n",
       "      <th>2014년 10월</th>\n",
       "      <th>2014년 11월</th>\n",
       "      <th>2014년 12월</th>\n",
       "      <th>2015년 1월</th>\n",
       "      <th>2015년 2월</th>\n",
       "      <th>2015년 3월</th>\n",
       "      <th>2015년 4월</th>\n",
       "      <th>2015년 5월</th>\n",
       "      <th>2015년 6월</th>\n",
       "      <th>2015년 7월</th>\n",
       "      <th>2015년 8월</th>\n",
       "      <th>2015년 9월</th>\n",
       "      <th>2015년 전월비</th>\n",
       "      <th>2015년 전년말비</th>\n",
       "      <th>2015년 전년동월비</th>\n",
       "      <th>지역</th>\n",
       "    </tr>\n",
       "  </thead>\n",
       "  <tbody>\n",
       "    <tr>\n",
       "      <th>2</th>\n",
       "      <td>전국</td>\n",
       "      <td></td>\n",
       "      <td>8,059</td>\n",
       "      <td>8,130</td>\n",
       "      <td>8,195</td>\n",
       "      <td>8,204</td>\n",
       "      <td>8,289</td>\n",
       "      <td>8,358</td>\n",
       "      <td>8,344</td>\n",
       "      <td>8,333</td>\n",
       "      <td>8,395</td>\n",
       "      <td>8,459</td>\n",
       "      <td>8,488</td>\n",
       "      <td>8,569</td>\n",
       "      <td>8,584</td>\n",
       "      <td>8,605</td>\n",
       "      <td>8,602</td>\n",
       "      <td>8,563</td>\n",
       "      <td>8,613</td>\n",
       "      <td>8,624</td>\n",
       "      <td>8,627</td>\n",
       "      <td>8,643</td>\n",
       "      <td>8,678</td>\n",
       "      <td>8,665</td>\n",
       "      <td>-13</td>\n",
       "      <td>82</td>\n",
       "      <td>207</td>\n",
       "      <td>전국</td>\n",
       "    </tr>\n",
       "    <tr>\n",
       "      <th>3</th>\n",
       "      <td>서울</td>\n",
       "      <td></td>\n",
       "      <td>18,189</td>\n",
       "      <td>17,925</td>\n",
       "      <td>17,925</td>\n",
       "      <td>18,016</td>\n",
       "      <td>18,098</td>\n",
       "      <td>19,446</td>\n",
       "      <td>18,867</td>\n",
       "      <td>18,742</td>\n",
       "      <td>19,274</td>\n",
       "      <td>19,404</td>\n",
       "      <td>19,759</td>\n",
       "      <td>20,242</td>\n",
       "      <td>20,269</td>\n",
       "      <td>20,670</td>\n",
       "      <td>20,670</td>\n",
       "      <td>19,415</td>\n",
       "      <td>18,842</td>\n",
       "      <td>18,367</td>\n",
       "      <td>18,374</td>\n",
       "      <td>18,152</td>\n",
       "      <td>18,443</td>\n",
       "      <td>17,969</td>\n",
       "      <td>-474</td>\n",
       "      <td>-2,300</td>\n",
       "      <td>-1,434</td>\n",
       "      <td>서울</td>\n",
       "    </tr>\n",
       "    <tr>\n",
       "      <th>4</th>\n",
       "      <td>6대광역시</td>\n",
       "      <td>부산</td>\n",
       "      <td>8,111</td>\n",
       "      <td>8,111</td>\n",
       "      <td>9,078</td>\n",
       "      <td>8,965</td>\n",
       "      <td>9,402</td>\n",
       "      <td>9,501</td>\n",
       "      <td>9,453</td>\n",
       "      <td>9,457</td>\n",
       "      <td>9,411</td>\n",
       "      <td>9,258</td>\n",
       "      <td>9,110</td>\n",
       "      <td>9,208</td>\n",
       "      <td>9,208</td>\n",
       "      <td>9,204</td>\n",
       "      <td>9,235</td>\n",
       "      <td>9,279</td>\n",
       "      <td>9,327</td>\n",
       "      <td>9,345</td>\n",
       "      <td>9,515</td>\n",
       "      <td>9,559</td>\n",
       "      <td>9,581</td>\n",
       "      <td>9,608</td>\n",
       "      <td>1</td>\n",
       "      <td>430</td>\n",
       "      <td>477</td>\n",
       "      <td>6대광역시부산</td>\n",
       "    </tr>\n",
       "    <tr>\n",
       "      <th>5</th>\n",
       "      <td></td>\n",
       "      <td>대구</td>\n",
       "      <td>8,080</td>\n",
       "      <td>8,080</td>\n",
       "      <td>8,077</td>\n",
       "      <td>8,101</td>\n",
       "      <td>8,267</td>\n",
       "      <td>8,274</td>\n",
       "      <td>8,360</td>\n",
       "      <td>8,360</td>\n",
       "      <td>8,370</td>\n",
       "      <td>8,449</td>\n",
       "      <td>8,403</td>\n",
       "      <td>8,439</td>\n",
       "      <td>8,253</td>\n",
       "      <td>8,327</td>\n",
       "      <td>8,416</td>\n",
       "      <td>8,441</td>\n",
       "      <td>8,446</td>\n",
       "      <td>8,568</td>\n",
       "      <td>8,542</td>\n",
       "      <td>8,542</td>\n",
       "      <td>8,795</td>\n",
       "      <td>8,863</td>\n",
       "      <td>27</td>\n",
       "      <td>400</td>\n",
       "      <td>350</td>\n",
       "      <td>대구</td>\n",
       "    </tr>\n",
       "    <tr>\n",
       "      <th>6</th>\n",
       "      <td></td>\n",
       "      <td>인천</td>\n",
       "      <td>10,204</td>\n",
       "      <td>10,204</td>\n",
       "      <td>10,408</td>\n",
       "      <td>10,408</td>\n",
       "      <td>10,000</td>\n",
       "      <td>9,844</td>\n",
       "      <td>10,058</td>\n",
       "      <td>9,974</td>\n",
       "      <td>9,973</td>\n",
       "      <td>9,973</td>\n",
       "      <td>10,016</td>\n",
       "      <td>10,020</td>\n",
       "      <td>10,020</td>\n",
       "      <td>10,017</td>\n",
       "      <td>9,876</td>\n",
       "      <td>9,876</td>\n",
       "      <td>9,938</td>\n",
       "      <td>10,551</td>\n",
       "      <td>10,443</td>\n",
       "      <td>10,443</td>\n",
       "      <td>10,449</td>\n",
       "      <td>10,450</td>\n",
       "      <td>-162</td>\n",
       "      <td>-150</td>\n",
       "      <td>-131</td>\n",
       "      <td>인천</td>\n",
       "    </tr>\n",
       "  </tbody>\n",
       "</table>\n",
       "</div>"
      ],
      "text/plain": [
       "0     구분 시군구 2013년 12월 2014년 1월 2014년 2월 2014년 3월 2014년 4월 2014년 5월 2014년 6월  \\\n",
       "2     전국         8,059    8,130    8,195    8,204    8,289    8,358    8,344   \n",
       "3     서울        18,189   17,925   17,925   18,016   18,098   19,446   18,867   \n",
       "4  6대광역시  부산     8,111    8,111    9,078    8,965    9,402    9,501    9,453   \n",
       "5         대구     8,080    8,080    8,077    8,101    8,267    8,274    8,360   \n",
       "6         인천    10,204   10,204   10,408   10,408   10,000    9,844   10,058   \n",
       "\n",
       "0 2014년 7월 2014년 8월 2014년 9월 2014년 10월 2014년 11월 2014년 12월 2015년 1월 2015년 2월  \\\n",
       "2    8,333    8,395    8,459     8,488     8,569     8,584    8,605    8,602   \n",
       "3   18,742   19,274   19,404    19,759    20,242    20,269   20,670   20,670   \n",
       "4    9,457    9,411    9,258     9,110     9,208     9,208    9,204    9,235   \n",
       "5    8,360    8,370    8,449     8,403     8,439     8,253    8,327    8,416   \n",
       "6    9,974    9,973    9,973    10,016    10,020    10,020   10,017    9,876   \n",
       "\n",
       "0 2015년 3월 2015년 4월 2015년 5월 2015년 6월 2015년 7월 2015년 8월 2015년 9월 2015년 전월비  \\\n",
       "2    8,563    8,613    8,624    8,627    8,643    8,678    8,665      -13    \n",
       "3   19,415   18,842   18,367   18,374   18,152   18,443   17,969     -474    \n",
       "4    9,279    9,327    9,345    9,515    9,559    9,581    9,608        1    \n",
       "5    8,441    8,446    8,568    8,542    8,542    8,795    8,863       27    \n",
       "6    9,876    9,938   10,551   10,443   10,443   10,449   10,450     -162    \n",
       "\n",
       "0 2015년 전년말비 2015년 전년동월비       지역  \n",
       "2        82         207        전국  \n",
       "3    -2,300      -1,434        서울  \n",
       "4       430         477   6대광역시부산  \n",
       "5       400         350        대구  \n",
       "6      -150        -131        인천  "
      ]
     },
     "execution_count": 61,
     "metadata": {},
     "output_type": "execute_result"
    }
   ],
   "source": [
    "data.head()"
   ]
  },
  {
   "cell_type": "markdown",
   "metadata": {},
   "source": [
    "melt"
   ]
  },
  {
   "cell_type": "code",
   "execution_count": 62,
   "metadata": {},
   "outputs": [],
   "source": [
    "melt_columns = data.columns.copy()"
   ]
  },
  {
   "cell_type": "code",
   "execution_count": 63,
   "metadata": {},
   "outputs": [],
   "source": [
    "data_melt = pd.melt(data, id_vars=['지역'], value_vars=['2013년 12월', '2014년 1월', '2014년 2월', \n",
    "                        '2014년 3월','2014년 4월', '2014년 5월', '2014년 6월', '2014년 7월', \n",
    "                        '2014년 8월','2014년 9월', '2014년 10월', '2014년 11월', '2014년 12월', \n",
    "                        '2015년 1월','2015년 2월', '2015년 3월', '2015년 4월', '2015년 5월', \n",
    "                        '2015년 6월','2015년 7월', '2015년 8월', '2015년 9월'])"
   ]
  },
  {
   "cell_type": "code",
   "execution_count": 64,
   "metadata": {},
   "outputs": [
    {
     "data": {
      "text/html": [
       "<div>\n",
       "<style scoped>\n",
       "    .dataframe tbody tr th:only-of-type {\n",
       "        vertical-align: middle;\n",
       "    }\n",
       "\n",
       "    .dataframe tbody tr th {\n",
       "        vertical-align: top;\n",
       "    }\n",
       "\n",
       "    .dataframe thead th {\n",
       "        text-align: right;\n",
       "    }\n",
       "</style>\n",
       "<table border=\"1\" class=\"dataframe\">\n",
       "  <thead>\n",
       "    <tr style=\"text-align: right;\">\n",
       "      <th></th>\n",
       "      <th>지역</th>\n",
       "      <th>0</th>\n",
       "      <th>value</th>\n",
       "    </tr>\n",
       "  </thead>\n",
       "  <tbody>\n",
       "    <tr>\n",
       "      <th>0</th>\n",
       "      <td>전국</td>\n",
       "      <td>2013년 12월</td>\n",
       "      <td>8,059</td>\n",
       "    </tr>\n",
       "    <tr>\n",
       "      <th>1</th>\n",
       "      <td>서울</td>\n",
       "      <td>2013년 12월</td>\n",
       "      <td>18,189</td>\n",
       "    </tr>\n",
       "    <tr>\n",
       "      <th>2</th>\n",
       "      <td>6대광역시부산</td>\n",
       "      <td>2013년 12월</td>\n",
       "      <td>8,111</td>\n",
       "    </tr>\n",
       "    <tr>\n",
       "      <th>3</th>\n",
       "      <td>대구</td>\n",
       "      <td>2013년 12월</td>\n",
       "      <td>8,080</td>\n",
       "    </tr>\n",
       "    <tr>\n",
       "      <th>4</th>\n",
       "      <td>인천</td>\n",
       "      <td>2013년 12월</td>\n",
       "      <td>10,204</td>\n",
       "    </tr>\n",
       "  </tbody>\n",
       "</table>\n",
       "</div>"
      ],
      "text/plain": [
       "        지역          0   value\n",
       "0       전국  2013년 12월   8,059\n",
       "1       서울  2013년 12월  18,189\n",
       "2  6대광역시부산  2013년 12월   8,111\n",
       "3       대구  2013년 12월   8,080\n",
       "4       인천  2013년 12월  10,204"
      ]
     },
     "execution_count": 64,
     "metadata": {},
     "output_type": "execute_result"
    }
   ],
   "source": [
    "data_melt.head()"
   ]
  },
  {
   "cell_type": "code",
   "execution_count": 65,
   "metadata": {},
   "outputs": [],
   "source": [
    "data_melt.columns = ['지역', '기간', '분양가']"
   ]
  },
  {
   "cell_type": "code",
   "execution_count": 66,
   "metadata": {},
   "outputs": [],
   "source": [
    "data_melt['연도'] = data_melt['기간'].apply(lambda year_month : year_month.split('년')[0])\n",
    "data_melt['월'] = data_melt['기간'].apply(lambda year_month : re.sub('월', '', year_month.split('년')[1]).strip())"
   ]
  },
  {
   "cell_type": "code",
   "execution_count": 67,
   "metadata": {},
   "outputs": [
    {
     "data": {
      "text/html": [
       "<div>\n",
       "<style scoped>\n",
       "    .dataframe tbody tr th:only-of-type {\n",
       "        vertical-align: middle;\n",
       "    }\n",
       "\n",
       "    .dataframe tbody tr th {\n",
       "        vertical-align: top;\n",
       "    }\n",
       "\n",
       "    .dataframe thead th {\n",
       "        text-align: right;\n",
       "    }\n",
       "</style>\n",
       "<table border=\"1\" class=\"dataframe\">\n",
       "  <thead>\n",
       "    <tr style=\"text-align: right;\">\n",
       "      <th></th>\n",
       "      <th>지역</th>\n",
       "      <th>기간</th>\n",
       "      <th>분양가</th>\n",
       "      <th>연도</th>\n",
       "      <th>월</th>\n",
       "    </tr>\n",
       "  </thead>\n",
       "  <tbody>\n",
       "    <tr>\n",
       "      <th>0</th>\n",
       "      <td>전국</td>\n",
       "      <td>2013년 12월</td>\n",
       "      <td>8,059</td>\n",
       "      <td>2013</td>\n",
       "      <td>12</td>\n",
       "    </tr>\n",
       "    <tr>\n",
       "      <th>1</th>\n",
       "      <td>서울</td>\n",
       "      <td>2013년 12월</td>\n",
       "      <td>18,189</td>\n",
       "      <td>2013</td>\n",
       "      <td>12</td>\n",
       "    </tr>\n",
       "    <tr>\n",
       "      <th>2</th>\n",
       "      <td>6대광역시부산</td>\n",
       "      <td>2013년 12월</td>\n",
       "      <td>8,111</td>\n",
       "      <td>2013</td>\n",
       "      <td>12</td>\n",
       "    </tr>\n",
       "    <tr>\n",
       "      <th>3</th>\n",
       "      <td>대구</td>\n",
       "      <td>2013년 12월</td>\n",
       "      <td>8,080</td>\n",
       "      <td>2013</td>\n",
       "      <td>12</td>\n",
       "    </tr>\n",
       "    <tr>\n",
       "      <th>4</th>\n",
       "      <td>인천</td>\n",
       "      <td>2013년 12월</td>\n",
       "      <td>10,204</td>\n",
       "      <td>2013</td>\n",
       "      <td>12</td>\n",
       "    </tr>\n",
       "  </tbody>\n",
       "</table>\n",
       "</div>"
      ],
      "text/plain": [
       "        지역         기간     분양가    연도   월\n",
       "0       전국  2013년 12월   8,059  2013  12\n",
       "1       서울  2013년 12월  18,189  2013  12\n",
       "2  6대광역시부산  2013년 12월   8,111  2013  12\n",
       "3       대구  2013년 12월   8,080  2013  12\n",
       "4       인천  2013년 12월  10,204  2013  12"
      ]
     },
     "execution_count": 67,
     "metadata": {},
     "output_type": "execute_result"
    }
   ],
   "source": [
    "data_melt.head()"
   ]
  },
  {
   "cell_type": "code",
   "execution_count": 68,
   "metadata": {},
   "outputs": [
    {
     "data": {
      "text/plain": [
       "array(['전국', '서울', '6대광역시부산', '대구', '인천', '광주', '대전', '울산', '', '경기',\n",
       "       '수도권', '세종', '지방강원', '충북', '충남', '전북', '전남', '경북', '경남', '제주'],\n",
       "      dtype=object)"
      ]
     },
     "execution_count": 68,
     "metadata": {},
     "output_type": "execute_result"
    }
   ],
   "source": [
    "data_melt['지역'].unique()"
   ]
  },
  {
   "cell_type": "markdown",
   "metadata": {},
   "source": [
    "- `부산`, `강원` 수정 필요"
   ]
  },
  {
   "cell_type": "markdown",
   "metadata": {},
   "source": [
    "`지역` 컬럼의 강원, 부산 부분 정리"
   ]
  },
  {
   "cell_type": "code",
   "execution_count": 69,
   "metadata": {},
   "outputs": [],
   "source": [
    "data_melt['지역'] = data_melt['지역'].apply(lambda x: re.sub('6대광역시부산','부산', x))\n",
    "data_melt['지역'] = data_melt['지역'].apply(lambda x: re.sub('지방강원','강원', x))"
   ]
  },
  {
   "cell_type": "code",
   "execution_count": 70,
   "metadata": {
    "scrolled": true
   },
   "outputs": [
    {
     "data": {
      "text/plain": [
       "       44\n",
       "전남     22\n",
       "대구     22\n",
       "부산     22\n",
       "충북     22\n",
       "대전     22\n",
       "세종     22\n",
       "경기     22\n",
       "울산     22\n",
       "전북     22\n",
       "경북     22\n",
       "수도권    22\n",
       "제주     22\n",
       "충남     22\n",
       "광주     22\n",
       "전국     22\n",
       "서울     22\n",
       "강원     22\n",
       "경남     22\n",
       "인천     22\n",
       "Name: 지역, dtype: int64"
      ]
     },
     "execution_count": 70,
     "metadata": {},
     "output_type": "execute_result"
    }
   ],
   "source": [
    "data_melt['지역'].value_counts()"
   ]
  },
  {
   "cell_type": "markdown",
   "metadata": {},
   "source": [
    "`분양가` 정리"
   ]
  },
  {
   "cell_type": "code",
   "execution_count": 71,
   "metadata": {},
   "outputs": [
    {
     "name": "stdout",
     "output_type": "stream",
     "text": [
      "<class 'pandas.core.frame.DataFrame'>\n",
      "RangeIndex: 462 entries, 0 to 461\n",
      "Data columns (total 5 columns):\n",
      " #   Column  Non-Null Count  Dtype \n",
      "---  ------  --------------  ----- \n",
      " 0   지역      462 non-null    object\n",
      " 1   기간      462 non-null    object\n",
      " 2   분양가     462 non-null    object\n",
      " 3   연도      462 non-null    object\n",
      " 4   월       462 non-null    object\n",
      "dtypes: object(5)\n",
      "memory usage: 18.2+ KB\n"
     ]
    }
   ],
   "source": [
    "data_melt.info()"
   ]
  },
  {
   "cell_type": "markdown",
   "metadata": {},
   "source": [
    "- 모두 문자열이다."
   ]
  },
  {
   "cell_type": "code",
   "execution_count": 72,
   "metadata": {},
   "outputs": [
    {
     "data": {
      "text/html": [
       "<div>\n",
       "<style scoped>\n",
       "    .dataframe tbody tr th:only-of-type {\n",
       "        vertical-align: middle;\n",
       "    }\n",
       "\n",
       "    .dataframe tbody tr th {\n",
       "        vertical-align: top;\n",
       "    }\n",
       "\n",
       "    .dataframe thead th {\n",
       "        text-align: right;\n",
       "    }\n",
       "</style>\n",
       "<table border=\"1\" class=\"dataframe\">\n",
       "  <thead>\n",
       "    <tr style=\"text-align: right;\">\n",
       "      <th></th>\n",
       "      <th>지역</th>\n",
       "      <th>기간</th>\n",
       "      <th>분양가</th>\n",
       "      <th>연도</th>\n",
       "      <th>월</th>\n",
       "    </tr>\n",
       "  </thead>\n",
       "  <tbody>\n",
       "    <tr>\n",
       "      <th>0</th>\n",
       "      <td>전국</td>\n",
       "      <td>2013년 12월</td>\n",
       "      <td>8,059</td>\n",
       "      <td>2013</td>\n",
       "      <td>12</td>\n",
       "    </tr>\n",
       "    <tr>\n",
       "      <th>1</th>\n",
       "      <td>서울</td>\n",
       "      <td>2013년 12월</td>\n",
       "      <td>18,189</td>\n",
       "      <td>2013</td>\n",
       "      <td>12</td>\n",
       "    </tr>\n",
       "    <tr>\n",
       "      <th>2</th>\n",
       "      <td>부산</td>\n",
       "      <td>2013년 12월</td>\n",
       "      <td>8,111</td>\n",
       "      <td>2013</td>\n",
       "      <td>12</td>\n",
       "    </tr>\n",
       "    <tr>\n",
       "      <th>3</th>\n",
       "      <td>대구</td>\n",
       "      <td>2013년 12월</td>\n",
       "      <td>8,080</td>\n",
       "      <td>2013</td>\n",
       "      <td>12</td>\n",
       "    </tr>\n",
       "    <tr>\n",
       "      <th>4</th>\n",
       "      <td>인천</td>\n",
       "      <td>2013년 12월</td>\n",
       "      <td>10,204</td>\n",
       "      <td>2013</td>\n",
       "      <td>12</td>\n",
       "    </tr>\n",
       "  </tbody>\n",
       "</table>\n",
       "</div>"
      ],
      "text/plain": [
       "   지역         기간     분양가    연도   월\n",
       "0  전국  2013년 12월   8,059  2013  12\n",
       "1  서울  2013년 12월  18,189  2013  12\n",
       "2  부산  2013년 12월   8,111  2013  12\n",
       "3  대구  2013년 12월   8,080  2013  12\n",
       "4  인천  2013년 12월  10,204  2013  12"
      ]
     },
     "execution_count": 72,
     "metadata": {},
     "output_type": "execute_result"
    }
   ],
   "source": [
    "data_melt.head()"
   ]
  },
  {
   "cell_type": "markdown",
   "metadata": {},
   "source": [
    "- 분양가를 숫자 타입으로 바꾸려면 먼저 `컴마(,)` 를 처리해야 한다."
   ]
  },
  {
   "cell_type": "code",
   "execution_count": 73,
   "metadata": {},
   "outputs": [],
   "source": [
    "data_melt['분양가격'] = data_melt['분양가'].str.replace(',', '').astype('int') "
   ]
  },
  {
   "cell_type": "code",
   "execution_count": 74,
   "metadata": {},
   "outputs": [
    {
     "name": "stdout",
     "output_type": "stream",
     "text": [
      "<class 'pandas.core.frame.DataFrame'>\n",
      "RangeIndex: 462 entries, 0 to 461\n",
      "Data columns (total 6 columns):\n",
      " #   Column  Non-Null Count  Dtype \n",
      "---  ------  --------------  ----- \n",
      " 0   지역      462 non-null    object\n",
      " 1   기간      462 non-null    object\n",
      " 2   분양가     462 non-null    object\n",
      " 3   연도      462 non-null    object\n",
      " 4   월       462 non-null    object\n",
      " 5   분양가격    462 non-null    int32 \n",
      "dtypes: int32(1), object(5)\n",
      "memory usage: 20.0+ KB\n"
     ]
    }
   ],
   "source": [
    "data_melt.info()"
   ]
  },
  {
   "cell_type": "markdown",
   "metadata": {},
   "source": [
    "시각화하기"
   ]
  },
  {
   "cell_type": "code",
   "execution_count": 75,
   "metadata": {},
   "outputs": [
    {
     "data": {
      "image/png": "[encoded data removed]",
      "text/plain": [
       "<Figure size 1200x600 with 1 Axes>"
      ]
     },
     "metadata": {},
     "output_type": "display_data"
    },
    {
     "data": {
      "text/plain": [
       "<ggplot: (-9223371868876883760)>"
      ]
     },
     "execution_count": 75,
     "metadata": {},
     "output_type": "execute_result"
    }
   ],
   "source": [
    "(ggplot(data_melt, aes(x='지역', y='분양가격', fill='연도'))\n",
    " + geom_boxplot()\n",
    " + theme(text=element_text(family='NanumBarunGothic'),\n",
    "         figure_size=(12, 6)))"
   ]
  },
  {
   "cell_type": "code",
   "execution_count": 76,
   "metadata": {},
   "outputs": [
    {
     "data": {
      "image/png": "[encoded data removed]",
      "text/plain": [
       "<Figure size 1200x600 with 1 Axes>"
      ]
     },
     "metadata": {},
     "output_type": "display_data"
    },
    {
     "data": {
      "text/plain": [
       "<ggplot: (-9223371868877215876)>"
      ]
     },
     "execution_count": 76,
     "metadata": {},
     "output_type": "execute_result"
    }
   ],
   "source": [
    "(ggplot(data_melt, aes(x='지역', y='분양가격', fill='연도'))\n",
    " + geom_bar(stat='summary', position='dodge')\n",
    " + theme(text=element_text(family='NanumBarunGothic'),\n",
    "         figure_size=(12, 6)))"
   ]
  },
  {
   "cell_type": "code",
   "execution_count": null,
   "metadata": {},
   "outputs": [],
   "source": []
  }
 ],
 "metadata": {
  "kernelspec": {
   "display_name": "Python 3",
   "language": "python",
   "name": "python3"
  },
  "language_info": {
   "codemirror_mode": {
    "name": "ipython",
    "version": 3
   },
   "file_extension": ".py",
   "mimetype": "text/x-python",
   "name": "python",
   "nbconvert_exporter": "python",
   "pygments_lexer": "ipython3",
   "version": "3.7.6"
  }
 },
 "nbformat": 4,
 "nbformat_minor": 4
}
